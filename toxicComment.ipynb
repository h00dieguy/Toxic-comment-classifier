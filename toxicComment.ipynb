{
  "nbformat": 4,
  "nbformat_minor": 0,
  "metadata": {
    "kernelspec": {
      "display_name": "Python 3",
      "language": "python",
      "name": "python3"
    },
    "language_info": {
      "codemirror_mode": {
        "name": "ipython",
        "version": 3
      },
      "file_extension": ".py",
      "mimetype": "text/x-python",
      "name": "python",
      "nbconvert_exporter": "python",
      "pygments_lexer": "ipython3",
      "version": "3.8.5"
    },
    "colab": {
      "name": "toxicComment.ipynb",
      "provenance": [],
      "toc_visible": true
    }
  },
  "cells": [
    {
      "cell_type": "markdown",
      "metadata": {
        "id": "V0CLmYZXz-o6"
      },
      "source": [
        "### Data source: \n",
        "https://www.kaggle.com/c/jigsaw-toxic-comment-classification-challenge\n"
      ]
    },
    {
      "cell_type": "markdown",
      "metadata": {
        "id": "VJWe7RDfz-pO"
      },
      "source": [
        "## Importing relevant libraries and load the data"
      ]
    },
    {
      "cell_type": "code",
      "metadata": {
        "colab": {
          "base_uri": "https://localhost:8080/"
        },
        "id": "522Q52O6z-pQ",
        "outputId": "072c49d1-2231-4b02-885b-b0502ef9294b"
      },
      "source": [
        "\n",
        "!pip install nltk"
      ],
      "execution_count": null,
      "outputs": [
        {
          "output_type": "stream",
          "text": [
            "Requirement already satisfied: nltk in /usr/local/lib/python3.7/dist-packages (3.2.5)\n",
            "Requirement already satisfied: six in /usr/local/lib/python3.7/dist-packages (from nltk) (1.15.0)\n"
          ],
          "name": "stdout"
        }
      ]
    },
    {
      "cell_type": "code",
      "metadata": {
        "id": "Oxg5c9IZz-pT"
      },
      "source": [
        "# Import relevant packages\n",
        "import matplotlib.pyplot as plt\n",
        "import nltk\n",
        "import numpy as np\n",
        "import re \n",
        "import pandas as pd\n",
        "import string\n",
        "import seaborn as sns\n",
        "\n",
        "from nltk.corpus import stopwords  # Remove useless words\n",
        "from nltk.stem.lancaster import LancasterStemmer  # Convert words to base form; aggressive\n",
        "\n",
        "# Import packages that help us to create document-term matrix\n",
        "from sklearn.feature_extraction.text import CountVectorizer, TfidfVectorizer\n"
      ],
      "execution_count": null,
      "outputs": []
    },
    {
      "cell_type": "code",
      "metadata": {
        "colab": {
          "base_uri": "https://localhost:8080/"
        },
        "id": "EVYX619Gz-pV",
        "outputId": "03e3cd39-7a37-439e-d3f5-432463948ccf"
      },
      "source": [
        "# In case there is a bug, just download stopwords again.\n",
        "nltk.download('stopwords')\n"
      ],
      "execution_count": null,
      "outputs": [
        {
          "output_type": "stream",
          "text": [
            "[nltk_data] Downloading package stopwords to /root/nltk_data...\n",
            "[nltk_data]   Package stopwords is already up-to-date!\n"
          ],
          "name": "stdout"
        },
        {
          "output_type": "execute_result",
          "data": {
            "text/plain": [
              "True"
            ]
          },
          "metadata": {
            "tags": []
          },
          "execution_count": 71
        }
      ]
    },
    {
      "cell_type": "code",
      "metadata": {
        "colab": {
          "base_uri": "https://localhost:8080/"
        },
        "id": "ampT7T_Bz-pW",
        "outputId": "1f220b50-c291-4c27-d600-36f85921f8f0"
      },
      "source": [
        "# Stopwords are a list of 'useless' words\n",
        "set(stopwords.words('english'))"
      ],
      "execution_count": null,
      "outputs": [
        {
          "output_type": "execute_result",
          "data": {
            "text/plain": [
              "{'a',\n",
              " 'about',\n",
              " 'above',\n",
              " 'after',\n",
              " 'again',\n",
              " 'against',\n",
              " 'ain',\n",
              " 'all',\n",
              " 'am',\n",
              " 'an',\n",
              " 'and',\n",
              " 'any',\n",
              " 'are',\n",
              " 'aren',\n",
              " \"aren't\",\n",
              " 'as',\n",
              " 'at',\n",
              " 'be',\n",
              " 'because',\n",
              " 'been',\n",
              " 'before',\n",
              " 'being',\n",
              " 'below',\n",
              " 'between',\n",
              " 'both',\n",
              " 'but',\n",
              " 'by',\n",
              " 'can',\n",
              " 'couldn',\n",
              " \"couldn't\",\n",
              " 'd',\n",
              " 'did',\n",
              " 'didn',\n",
              " \"didn't\",\n",
              " 'do',\n",
              " 'does',\n",
              " 'doesn',\n",
              " \"doesn't\",\n",
              " 'doing',\n",
              " 'don',\n",
              " \"don't\",\n",
              " 'down',\n",
              " 'during',\n",
              " 'each',\n",
              " 'few',\n",
              " 'for',\n",
              " 'from',\n",
              " 'further',\n",
              " 'had',\n",
              " 'hadn',\n",
              " \"hadn't\",\n",
              " 'has',\n",
              " 'hasn',\n",
              " \"hasn't\",\n",
              " 'have',\n",
              " 'haven',\n",
              " \"haven't\",\n",
              " 'having',\n",
              " 'he',\n",
              " 'her',\n",
              " 'here',\n",
              " 'hers',\n",
              " 'herself',\n",
              " 'him',\n",
              " 'himself',\n",
              " 'his',\n",
              " 'how',\n",
              " 'i',\n",
              " 'if',\n",
              " 'in',\n",
              " 'into',\n",
              " 'is',\n",
              " 'isn',\n",
              " \"isn't\",\n",
              " 'it',\n",
              " \"it's\",\n",
              " 'its',\n",
              " 'itself',\n",
              " 'just',\n",
              " 'll',\n",
              " 'm',\n",
              " 'ma',\n",
              " 'me',\n",
              " 'mightn',\n",
              " \"mightn't\",\n",
              " 'more',\n",
              " 'most',\n",
              " 'mustn',\n",
              " \"mustn't\",\n",
              " 'my',\n",
              " 'myself',\n",
              " 'needn',\n",
              " \"needn't\",\n",
              " 'no',\n",
              " 'nor',\n",
              " 'not',\n",
              " 'now',\n",
              " 'o',\n",
              " 'of',\n",
              " 'off',\n",
              " 'on',\n",
              " 'once',\n",
              " 'only',\n",
              " 'or',\n",
              " 'other',\n",
              " 'our',\n",
              " 'ours',\n",
              " 'ourselves',\n",
              " 'out',\n",
              " 'over',\n",
              " 'own',\n",
              " 're',\n",
              " 's',\n",
              " 'same',\n",
              " 'shan',\n",
              " \"shan't\",\n",
              " 'she',\n",
              " \"she's\",\n",
              " 'should',\n",
              " \"should've\",\n",
              " 'shouldn',\n",
              " \"shouldn't\",\n",
              " 'so',\n",
              " 'some',\n",
              " 'such',\n",
              " 't',\n",
              " 'than',\n",
              " 'that',\n",
              " \"that'll\",\n",
              " 'the',\n",
              " 'their',\n",
              " 'theirs',\n",
              " 'them',\n",
              " 'themselves',\n",
              " 'then',\n",
              " 'there',\n",
              " 'these',\n",
              " 'they',\n",
              " 'this',\n",
              " 'those',\n",
              " 'through',\n",
              " 'to',\n",
              " 'too',\n",
              " 'under',\n",
              " 'until',\n",
              " 'up',\n",
              " 've',\n",
              " 'very',\n",
              " 'was',\n",
              " 'wasn',\n",
              " \"wasn't\",\n",
              " 'we',\n",
              " 'were',\n",
              " 'weren',\n",
              " \"weren't\",\n",
              " 'what',\n",
              " 'when',\n",
              " 'where',\n",
              " 'which',\n",
              " 'while',\n",
              " 'who',\n",
              " 'whom',\n",
              " 'why',\n",
              " 'will',\n",
              " 'with',\n",
              " 'won',\n",
              " \"won't\",\n",
              " 'wouldn',\n",
              " \"wouldn't\",\n",
              " 'y',\n",
              " 'you',\n",
              " \"you'd\",\n",
              " \"you'll\",\n",
              " \"you're\",\n",
              " \"you've\",\n",
              " 'your',\n",
              " 'yours',\n",
              " 'yourself',\n",
              " 'yourselves'}"
            ]
          },
          "metadata": {
            "tags": []
          },
          "execution_count": 72
        }
      ]
    },
    {
      "cell_type": "markdown",
      "metadata": {
        "id": "A1wgsTpWz-pX"
      },
      "source": [
        "## Load the CSV and take a peek at 1st 5 rows"
      ]
    },
    {
      "cell_type": "code",
      "metadata": {
        "colab": {
          "base_uri": "https://localhost:8080/",
          "height": 289
        },
        "id": "QrcoR_Bqz-pY",
        "outputId": "08fe79c8-d5a8-44a4-911a-2f91b81bcb09"
      },
      "source": [
        "data = pd.read_csv('/content/drive/MyDrive/PROJECTS/pbl/PBLproject/mlmodel/toxic_comments_classifier/train.csv')\n",
        "data.head()"
      ],
      "execution_count": null,
      "outputs": [
        {
          "output_type": "execute_result",
          "data": {
            "text/html": [
              "<div>\n",
              "<style scoped>\n",
              "    .dataframe tbody tr th:only-of-type {\n",
              "        vertical-align: middle;\n",
              "    }\n",
              "\n",
              "    .dataframe tbody tr th {\n",
              "        vertical-align: top;\n",
              "    }\n",
              "\n",
              "    .dataframe thead th {\n",
              "        text-align: right;\n",
              "    }\n",
              "</style>\n",
              "<table border=\"1\" class=\"dataframe\">\n",
              "  <thead>\n",
              "    <tr style=\"text-align: right;\">\n",
              "      <th></th>\n",
              "      <th>id</th>\n",
              "      <th>comment_text</th>\n",
              "      <th>toxic</th>\n",
              "      <th>severe_toxic</th>\n",
              "      <th>obscene</th>\n",
              "      <th>threat</th>\n",
              "      <th>insult</th>\n",
              "      <th>identity_hate</th>\n",
              "    </tr>\n",
              "  </thead>\n",
              "  <tbody>\n",
              "    <tr>\n",
              "      <th>0</th>\n",
              "      <td>0000997932d777bf</td>\n",
              "      <td>Explanation\\nWhy the edits made under my usern...</td>\n",
              "      <td>0</td>\n",
              "      <td>0</td>\n",
              "      <td>0</td>\n",
              "      <td>0</td>\n",
              "      <td>0</td>\n",
              "      <td>0</td>\n",
              "    </tr>\n",
              "    <tr>\n",
              "      <th>1</th>\n",
              "      <td>000103f0d9cfb60f</td>\n",
              "      <td>D'aww! He matches this background colour I'm s...</td>\n",
              "      <td>0</td>\n",
              "      <td>0</td>\n",
              "      <td>0</td>\n",
              "      <td>0</td>\n",
              "      <td>0</td>\n",
              "      <td>0</td>\n",
              "    </tr>\n",
              "    <tr>\n",
              "      <th>2</th>\n",
              "      <td>000113f07ec002fd</td>\n",
              "      <td>Hey man, I'm really not trying to edit war. It...</td>\n",
              "      <td>0</td>\n",
              "      <td>0</td>\n",
              "      <td>0</td>\n",
              "      <td>0</td>\n",
              "      <td>0</td>\n",
              "      <td>0</td>\n",
              "    </tr>\n",
              "    <tr>\n",
              "      <th>3</th>\n",
              "      <td>0001b41b1c6bb37e</td>\n",
              "      <td>\"\\nMore\\nI can't make any real suggestions on ...</td>\n",
              "      <td>0</td>\n",
              "      <td>0</td>\n",
              "      <td>0</td>\n",
              "      <td>0</td>\n",
              "      <td>0</td>\n",
              "      <td>0</td>\n",
              "    </tr>\n",
              "    <tr>\n",
              "      <th>4</th>\n",
              "      <td>0001d958c54c6e35</td>\n",
              "      <td>You, sir, are my hero. Any chance you remember...</td>\n",
              "      <td>0</td>\n",
              "      <td>0</td>\n",
              "      <td>0</td>\n",
              "      <td>0</td>\n",
              "      <td>0</td>\n",
              "      <td>0</td>\n",
              "    </tr>\n",
              "  </tbody>\n",
              "</table>\n",
              "</div>"
            ],
            "text/plain": [
              "                 id  ... identity_hate\n",
              "0  0000997932d777bf  ...             0\n",
              "1  000103f0d9cfb60f  ...             0\n",
              "2  000113f07ec002fd  ...             0\n",
              "3  0001b41b1c6bb37e  ...             0\n",
              "4  0001d958c54c6e35  ...             0\n",
              "\n",
              "[5 rows x 8 columns]"
            ]
          },
          "metadata": {
            "tags": []
          },
          "execution_count": 73
        }
      ]
    },
    {
      "cell_type": "code",
      "metadata": {
        "colab": {
          "base_uri": "https://localhost:8080/"
        },
        "id": "r5wyy5b-1BAz",
        "outputId": "8c5de652-8662-47c0-e880-b0461e3c8d94"
      },
      "source": [
        "from google.colab import drive\n",
        "drive.mount('/content/drive')"
      ],
      "execution_count": null,
      "outputs": [
        {
          "output_type": "stream",
          "text": [
            "Drive already mounted at /content/drive; to attempt to forcibly remount, call drive.mount(\"/content/drive\", force_remount=True).\n"
          ],
          "name": "stdout"
        }
      ]
    },
    {
      "cell_type": "markdown",
      "metadata": {
        "id": "yp7WNhlcz-pZ"
      },
      "source": [
        "Entries with all 0 under the 6 categories are neutral and considered as non-toxic."
      ]
    },
    {
      "cell_type": "code",
      "metadata": {
        "colab": {
          "base_uri": "https://localhost:8080/"
        },
        "id": "gr1Ro__Uz-pa",
        "outputId": "a52d4227-390e-485e-ae90-c485f04b7227"
      },
      "source": [
        "data.info()"
      ],
      "execution_count": null,
      "outputs": [
        {
          "output_type": "stream",
          "text": [
            "<class 'pandas.core.frame.DataFrame'>\n",
            "RangeIndex: 159571 entries, 0 to 159570\n",
            "Data columns (total 8 columns):\n",
            " #   Column         Non-Null Count   Dtype \n",
            "---  ------         --------------   ----- \n",
            " 0   id             159571 non-null  object\n",
            " 1   comment_text   159571 non-null  object\n",
            " 2   toxic          159571 non-null  int64 \n",
            " 3   severe_toxic   159571 non-null  int64 \n",
            " 4   obscene        159571 non-null  int64 \n",
            " 5   threat         159571 non-null  int64 \n",
            " 6   insult         159571 non-null  int64 \n",
            " 7   identity_hate  159571 non-null  int64 \n",
            "dtypes: int64(6), object(2)\n",
            "memory usage: 9.7+ MB\n"
          ],
          "name": "stdout"
        }
      ]
    },
    {
      "cell_type": "markdown",
      "metadata": {
        "id": "GaCCAtO2z-pb"
      },
      "source": [
        "A clean dataset with no missing values. Sweet!"
      ]
    },
    {
      "cell_type": "markdown",
      "metadata": {
        "id": "R0kFoozGz-pc"
      },
      "source": [
        "## Let's see how the 1st 3 comments look like"
      ]
    },
    {
      "cell_type": "code",
      "metadata": {
        "colab": {
          "base_uri": "https://localhost:8080/",
          "height": 69
        },
        "id": "mHCuEHF-z-pd",
        "outputId": "3e3d0cc4-5be4-4de1-d455-14d98c0f8208"
      },
      "source": [
        "data['comment_text'][0]"
      ],
      "execution_count": null,
      "outputs": [
        {
          "output_type": "execute_result",
          "data": {
            "application/vnd.google.colaboratory.intrinsic+json": {
              "type": "string"
            },
            "text/plain": [
              "\"Explanation\\nWhy the edits made under my username Hardcore Metallica Fan were reverted? They weren't vandalisms, just closure on some GAs after I voted at New York Dolls FAC. And please don't remove the template from the talk page since I'm retired now.89.205.38.27\""
            ]
          },
          "metadata": {
            "tags": []
          },
          "execution_count": 76
        }
      ]
    },
    {
      "cell_type": "code",
      "metadata": {
        "colab": {
          "base_uri": "https://localhost:8080/",
          "height": 52
        },
        "id": "Joo6pBL9z-pe",
        "outputId": "fe44e27a-9489-4846-9d71-026764c478c9"
      },
      "source": [
        "data['comment_text'][1]"
      ],
      "execution_count": null,
      "outputs": [
        {
          "output_type": "execute_result",
          "data": {
            "application/vnd.google.colaboratory.intrinsic+json": {
              "type": "string"
            },
            "text/plain": [
              "\"D'aww! He matches this background colour I'm seemingly stuck with. Thanks.  (talk) 21:51, January 11, 2016 (UTC)\""
            ]
          },
          "metadata": {
            "tags": []
          },
          "execution_count": 77
        }
      ]
    },
    {
      "cell_type": "code",
      "metadata": {
        "colab": {
          "base_uri": "https://localhost:8080/",
          "height": 120
        },
        "id": "T61_lx79z-pf",
        "outputId": "4bc11c21-9e73-42e9-926c-2026c8bd330e"
      },
      "source": [
        "data['comment_text'][3]"
      ],
      "execution_count": null,
      "outputs": [
        {
          "output_type": "execute_result",
          "data": {
            "application/vnd.google.colaboratory.intrinsic+json": {
              "type": "string"
            },
            "text/plain": [
              "'\"\\nMore\\nI can\\'t make any real suggestions on improvement - I wondered if the section statistics should be later on, or a subsection of \"\"types of accidents\"\"  -I think the references may need tidying so that they are all in the exact same format ie date format etc. I can do that later on, if no-one else does first - if you have any preferences for formatting style on references or want to do it yourself please let me know.\\n\\nThere appears to be a backlog on articles for review so I guess there may be a delay until a reviewer turns up. It\\'s listed in the relevant form eg Wikipedia:Good_article_nominations#Transport  \"'"
            ]
          },
          "metadata": {
            "tags": []
          },
          "execution_count": 78
        }
      ]
    },
    {
      "cell_type": "markdown",
      "metadata": {
        "id": "M--y-zw3z-pf"
      },
      "source": [
        "The comments are dirty with '\\n' values, symbols, numbers that will not be useful for analysis. We will be removing these further down the pipeline."
      ]
    },
    {
      "cell_type": "markdown",
      "metadata": {
        "id": "A-1NSwQEz-pg"
      },
      "source": [
        "## Exploratory Data Analysis"
      ]
    },
    {
      "cell_type": "code",
      "metadata": {
        "colab": {
          "base_uri": "https://localhost:8080/"
        },
        "id": "MIOjFYghz-ph",
        "outputId": "09bf5a41-dcb6-43d8-9f22-626f781f3cf7"
      },
      "source": [
        "# Check percentage of comments that are toxic compared to normal comments\n",
        "data.toxic.value_counts(normalize=True)"
      ],
      "execution_count": null,
      "outputs": [
        {
          "output_type": "execute_result",
          "data": {
            "text/plain": [
              "0    0.904156\n",
              "1    0.095844\n",
              "Name: toxic, dtype: float64"
            ]
          },
          "metadata": {
            "tags": []
          },
          "execution_count": 79
        }
      ]
    },
    {
      "cell_type": "markdown",
      "metadata": {
        "id": "ffEpn06Ez-pi"
      },
      "source": [
        "Cool. It seems that 90% of the comments fall in the toxic category."
      ]
    },
    {
      "cell_type": "code",
      "metadata": {
        "colab": {
          "base_uri": "https://localhost:8080/",
          "height": 289
        },
        "id": "tpMAS_KLz-pi",
        "outputId": "d65415e4-f66d-411d-808b-b688433c2182"
      },
      "source": [
        "data.head()"
      ],
      "execution_count": null,
      "outputs": [
        {
          "output_type": "execute_result",
          "data": {
            "text/html": [
              "<div>\n",
              "<style scoped>\n",
              "    .dataframe tbody tr th:only-of-type {\n",
              "        vertical-align: middle;\n",
              "    }\n",
              "\n",
              "    .dataframe tbody tr th {\n",
              "        vertical-align: top;\n",
              "    }\n",
              "\n",
              "    .dataframe thead th {\n",
              "        text-align: right;\n",
              "    }\n",
              "</style>\n",
              "<table border=\"1\" class=\"dataframe\">\n",
              "  <thead>\n",
              "    <tr style=\"text-align: right;\">\n",
              "      <th></th>\n",
              "      <th>id</th>\n",
              "      <th>comment_text</th>\n",
              "      <th>toxic</th>\n",
              "      <th>severe_toxic</th>\n",
              "      <th>obscene</th>\n",
              "      <th>threat</th>\n",
              "      <th>insult</th>\n",
              "      <th>identity_hate</th>\n",
              "    </tr>\n",
              "  </thead>\n",
              "  <tbody>\n",
              "    <tr>\n",
              "      <th>0</th>\n",
              "      <td>0000997932d777bf</td>\n",
              "      <td>Explanation\\nWhy the edits made under my usern...</td>\n",
              "      <td>0</td>\n",
              "      <td>0</td>\n",
              "      <td>0</td>\n",
              "      <td>0</td>\n",
              "      <td>0</td>\n",
              "      <td>0</td>\n",
              "    </tr>\n",
              "    <tr>\n",
              "      <th>1</th>\n",
              "      <td>000103f0d9cfb60f</td>\n",
              "      <td>D'aww! He matches this background colour I'm s...</td>\n",
              "      <td>0</td>\n",
              "      <td>0</td>\n",
              "      <td>0</td>\n",
              "      <td>0</td>\n",
              "      <td>0</td>\n",
              "      <td>0</td>\n",
              "    </tr>\n",
              "    <tr>\n",
              "      <th>2</th>\n",
              "      <td>000113f07ec002fd</td>\n",
              "      <td>Hey man, I'm really not trying to edit war. It...</td>\n",
              "      <td>0</td>\n",
              "      <td>0</td>\n",
              "      <td>0</td>\n",
              "      <td>0</td>\n",
              "      <td>0</td>\n",
              "      <td>0</td>\n",
              "    </tr>\n",
              "    <tr>\n",
              "      <th>3</th>\n",
              "      <td>0001b41b1c6bb37e</td>\n",
              "      <td>\"\\nMore\\nI can't make any real suggestions on ...</td>\n",
              "      <td>0</td>\n",
              "      <td>0</td>\n",
              "      <td>0</td>\n",
              "      <td>0</td>\n",
              "      <td>0</td>\n",
              "      <td>0</td>\n",
              "    </tr>\n",
              "    <tr>\n",
              "      <th>4</th>\n",
              "      <td>0001d958c54c6e35</td>\n",
              "      <td>You, sir, are my hero. Any chance you remember...</td>\n",
              "      <td>0</td>\n",
              "      <td>0</td>\n",
              "      <td>0</td>\n",
              "      <td>0</td>\n",
              "      <td>0</td>\n",
              "      <td>0</td>\n",
              "    </tr>\n",
              "  </tbody>\n",
              "</table>\n",
              "</div>"
            ],
            "text/plain": [
              "                 id  ... identity_hate\n",
              "0  0000997932d777bf  ...             0\n",
              "1  000103f0d9cfb60f  ...             0\n",
              "2  000113f07ec002fd  ...             0\n",
              "3  0001b41b1c6bb37e  ...             0\n",
              "4  0001d958c54c6e35  ...             0\n",
              "\n",
              "[5 rows x 8 columns]"
            ]
          },
          "metadata": {
            "tags": []
          },
          "execution_count": 80
        }
      ]
    },
    {
      "cell_type": "code",
      "metadata": {
        "id": "gxzbGeu9z-pj"
      },
      "source": [
        "#Create a new subset of the data by only taking the 2nd column onwards (comments and categories)\n",
        "data_count=data.iloc[:,2:].sum()"
      ],
      "execution_count": null,
      "outputs": []
    },
    {
      "cell_type": "code",
      "metadata": {
        "colab": {
          "base_uri": "https://localhost:8080/"
        },
        "id": "-E3EgwrCz-pk",
        "outputId": "82018282-cc4a-449f-be5e-2c4768866bd6"
      },
      "source": [
        "data_count"
      ],
      "execution_count": null,
      "outputs": [
        {
          "output_type": "execute_result",
          "data": {
            "text/plain": [
              "toxic            15294\n",
              "severe_toxic      1595\n",
              "obscene           8449\n",
              "threat             478\n",
              "insult            7877\n",
              "identity_hate     1405\n",
              "dtype: int64"
            ]
          },
          "metadata": {
            "tags": []
          },
          "execution_count": 82
        }
      ]
    },
    {
      "cell_type": "code",
      "metadata": {
        "colab": {
          "base_uri": "https://localhost:8080/",
          "height": 353
        },
        "id": "_-xeUbtXz-pl",
        "outputId": "d5c6b0e0-9688-494e-fef4-e4953ebb0a27"
      },
      "source": [
        "# Plot a chart with the following size\n",
        "plt.figure(figsize=(8,4))\n",
        "\n",
        "# Plot a bar chart using the index (category values) and the count of each category. alpha = 0.8 to make the bars more translucent\n",
        "ax = sns.barplot(data_count.index, data_count.values, alpha=0.8)\n",
        "\n",
        "plt.title(\"No. of comments per class\")\n",
        "plt.ylabel('No. of Occurrences', fontsize=12)\n",
        "plt.xlabel('Type ', fontsize=12)\n",
        "\n",
        "#adding the text labels for each bar\n",
        "rects = ax.patches\n",
        "labels = data_count.values\n",
        "for rect, label in zip(rects, labels):\n",
        "    height = rect.get_height()\n",
        "    ax.text(rect.get_x() + rect.get_width()/2, height + 5, label, ha='center', va='bottom')\n",
        "\n",
        "plt.show()"
      ],
      "execution_count": null,
      "outputs": [
        {
          "output_type": "stream",
          "text": [
            "/usr/local/lib/python3.7/dist-packages/seaborn/_decorators.py:43: FutureWarning: Pass the following variables as keyword args: x, y. From version 0.12, the only valid positional argument will be `data`, and passing other arguments without an explicit keyword will result in an error or misinterpretation.\n",
            "  FutureWarning\n"
          ],
          "name": "stderr"
        },
        {
          "output_type": "display_data",
          "data": {
            "image/png": "[encoded data removed]",
            "text/plain": [
              "<Figure size 576x288 with 1 Axes>"
            ]
          },
          "metadata": {
            "tags": [],
            "needs_background": "light"
          }
        }
      ]
    },
    {
      "cell_type": "code",
      "metadata": {
        "colab": {
          "base_uri": "https://localhost:8080/"
        },
        "id": "_nFt1vgiz-pm",
        "outputId": "12c14669-d32e-4030-9414-a03056216039"
      },
      "source": [
        "num_rows = len(data)\n",
        "print(num_rows)"
      ],
      "execution_count": null,
      "outputs": [
        {
          "output_type": "stream",
          "text": [
            "159571\n"
          ],
          "name": "stdout"
        }
      ]
    },
    {
      "cell_type": "code",
      "metadata": {
        "colab": {
          "base_uri": "https://localhost:8080/",
          "height": 319
        },
        "id": "ehwcSY4_z-pn",
        "outputId": "51a7f38b-d1fa-42e3-a43f-fbc2c134b8cb"
      },
      "source": [
        "# Create a bar graph \n",
        "sum_tox = data['toxic'].sum() / num_rows * 100\n",
        "sum_sev = data['severe_toxic'].sum() / num_rows * 100\n",
        "sum_obs = data['obscene'].sum() / num_rows * 100\n",
        "sum_thr = data['threat'].sum() / num_rows * 100\n",
        "sum_ins = data['insult'].sum() / num_rows * 100\n",
        "sum_ide = data['identity_hate'].sum() / num_rows * 100\n",
        "\n",
        "# Initiate a list of 6 values that represent the 6 x-axis values for the categories\n",
        "ind = np.arange(6)\n",
        "\n",
        "# Let the ind variable be the x-axis, whereas the % of toxicity for each category be the y-axis.\n",
        "# Sequence of % have been sorted manually. This method cannot be done if there are large numbers of categories.\n",
        "ax = plt.barh(ind, [sum_tox, sum_obs, sum_ins, sum_sev, sum_ide, sum_thr])\n",
        "plt.xlabel('Percentage (%)', size=20)\n",
        "plt.xticks(np.arange(0, 30, 5), size=20)\n",
        "plt.title('% of comments in various categories', size=22)\n",
        "plt.yticks(ind, ('Toxic', 'Obscene', 'Insult', 'Severe Toxic', 'Identity Hate', 'Threat', ), size=15)\n",
        "\n",
        "# Invert the graph so that it is in descending order.\n",
        "plt.gca().invert_yaxis()\n",
        "plt.show()\n"
      ],
      "execution_count": null,
      "outputs": [
        {
          "output_type": "display_data",
          "data": {
            "image/png": "[encoded data removed]",
            "text/plain": [
              "<Figure size 432x288 with 1 Axes>"
            ]
          },
          "metadata": {
            "tags": [],
            "needs_background": "light"
          }
        }
      ]
    },
    {
      "cell_type": "markdown",
      "metadata": {
        "id": "g6swLvTwz-pp"
      },
      "source": [
        "## Preprocess the text"
      ]
    },
    {
      "cell_type": "code",
      "metadata": {
        "colab": {
          "base_uri": "https://localhost:8080/",
          "height": 69
        },
        "id": "UoI_HEyMz-pp",
        "outputId": "c1c2aa06-825b-4c55-98a1-288eea256aec"
      },
      "source": [
        "# Text preprocessing steps - remove numbers, capital letters, punctuation, '\\n'\n",
        "import re\n",
        "import string\n",
        "\n",
        "# remove all numbers with letters attached to them\n",
        "alphanumeric = lambda x: re.sub('\\w*\\d\\w*', ' ', x)\n",
        "\n",
        "# '[%s]' % re.escape(string.punctuation),' ' - replace punctuation with white space\n",
        "# .lower() - convert all strings to lowercase \n",
        "punc_lower = lambda x: re.sub('[%s]' % re.escape(string.punctuation), ' ', x.lower())\n",
        "\n",
        "# Remove all '\\n' in the string and replace it with a space\n",
        "remove_n = lambda x: re.sub(\"\\n\", \" \", x)\n",
        "\n",
        "# Remove all non-ascii characters \n",
        "remove_non_ascii = lambda x: re.sub(r'[^\\x00-\\x7f]',r' ', x)\n",
        "\n",
        "# Apply all the lambda functions wrote previously through .map on the comments column\n",
        "data['comment_text'] = data['comment_text'].map(alphanumeric).map(punc_lower).map(remove_n).map(remove_non_ascii)\n",
        "\n",
        "data['comment_text'][0]"
      ],
      "execution_count": null,
      "outputs": [
        {
          "output_type": "execute_result",
          "data": {
            "application/vnd.google.colaboratory.intrinsic+json": {
              "type": "string"
            },
            "text/plain": [
              "'explanation why the edits made under my username hardcore metallica fan were reverted  they weren t vandalisms  just closure on some gas after i voted at new york dolls fac  and please don t remove the template from the talk page since i m retired now        '"
            ]
          },
          "metadata": {
            "tags": []
          },
          "execution_count": 86
        }
      ]
    },
    {
      "cell_type": "markdown",
      "metadata": {
        "id": "txtJOJ8Wz-pr"
      },
      "source": [
        "## Separate our dataset into 6 sections. Each section is comment + 1 category."
      ]
    },
    {
      "cell_type": "code",
      "metadata": {
        "id": "WFVdowTgz-pr"
      },
      "source": [
        "data_tox = data.loc[:,['id','comment_text','toxic']]"
      ],
      "execution_count": null,
      "outputs": []
    },
    {
      "cell_type": "code",
      "metadata": {
        "colab": {
          "base_uri": "https://localhost:8080/",
          "height": 69
        },
        "id": "orciM9Znz-ps",
        "outputId": "a991d813-ab73-435e-9e12-68ce7343dcab"
      },
      "source": [
        "data_tox['comment_text'][0]"
      ],
      "execution_count": null,
      "outputs": [
        {
          "output_type": "execute_result",
          "data": {
            "application/vnd.google.colaboratory.intrinsic+json": {
              "type": "string"
            },
            "text/plain": [
              "'explanation why the edits made under my username hardcore metallica fan were reverted  they weren t vandalisms  just closure on some gas after i voted at new york dolls fac  and please don t remove the template from the talk page since i m retired now        '"
            ]
          },
          "metadata": {
            "tags": []
          },
          "execution_count": 88
        }
      ]
    },
    {
      "cell_type": "code",
      "metadata": {
        "colab": {
          "base_uri": "https://localhost:8080/",
          "height": 35
        },
        "id": "E3UkVUDez-ps",
        "outputId": "aab0a72d-dfcd-46dc-89e7-461453893696"
      },
      "source": [
        "data_tox['comment_text'][1]"
      ],
      "execution_count": null,
      "outputs": [
        {
          "output_type": "execute_result",
          "data": {
            "application/vnd.google.colaboratory.intrinsic+json": {
              "type": "string"
            },
            "text/plain": [
              "'d aww  he matches this background colour i m seemingly stuck with  thanks    talk       january       utc '"
            ]
          },
          "metadata": {
            "tags": []
          },
          "execution_count": 89
        }
      ]
    },
    {
      "cell_type": "code",
      "metadata": {
        "id": "VfqMPectz-pt"
      },
      "source": [
        "data_sev = data.loc[:,['id','comment_text','severe_toxic']]"
      ],
      "execution_count": null,
      "outputs": []
    },
    {
      "cell_type": "code",
      "metadata": {
        "id": "nmumaxCHz-pu"
      },
      "source": [
        "data_obs = data.loc[:,['id','comment_text','obscene']]"
      ],
      "execution_count": null,
      "outputs": []
    },
    {
      "cell_type": "code",
      "metadata": {
        "id": "10fdjpS6z-pu"
      },
      "source": [
        "data_thr = data.loc[:,['id','comment_text','threat']]"
      ],
      "execution_count": null,
      "outputs": []
    },
    {
      "cell_type": "code",
      "metadata": {
        "id": "Y-5U8Hjrz-pv"
      },
      "source": [
        "data_ins = data.loc[:,['id','comment_text','insult']]"
      ],
      "execution_count": null,
      "outputs": []
    },
    {
      "cell_type": "code",
      "metadata": {
        "id": "bzG0vbsLz-pw"
      },
      "source": [
        "data_ide = data.loc[:,['id','comment_text','identity_hate']]"
      ],
      "execution_count": null,
      "outputs": []
    },
    {
      "cell_type": "markdown",
      "metadata": {
        "id": "bXphl6mmz-pw"
      },
      "source": [
        "## Creating WordCloud\n",
        "### Useful to show the words which occur most frequently for each category. Warning: Profanity ahead."
      ]
    },
    {
      "cell_type": "code",
      "metadata": {
        "id": "IUDSvWH_z-px"
      },
      "source": [
        "import wordcloud\n",
        "from PIL import Image\n",
        "from wordcloud import WordCloud, STOPWORDS, ImageColorGenerator\n",
        "from nltk.corpus import stopwords"
      ],
      "execution_count": null,
      "outputs": []
    },
    {
      "cell_type": "code",
      "metadata": {
        "id": "Kb3ywYYVz-px"
      },
      "source": [
        "def wordcloud(df, label):\n",
        "    \n",
        "    # Print only rows where the toxic category label value is 1 (ie. the comment is toxic)\n",
        "    subset=df[df[label]==1]\n",
        "    text=subset.comment_text.values\n",
        "    wc= WordCloud(background_color=\"black\",max_words=4000)\n",
        "\n",
        "    wc.generate(\" \".join(text))\n",
        "\n",
        "    plt.figure(figsize=(20,20))\n",
        "    plt.subplot(221)\n",
        "    plt.axis(\"off\")\n",
        "    plt.title(\"Words frequented in {}\".format(label), fontsize=20)\n",
        "    plt.imshow(wc.recolor(colormap= 'gist_earth' , random_state=244), alpha=0.98)"
      ],
      "execution_count": null,
      "outputs": []
    },
    {
      "cell_type": "code",
      "metadata": {
        "colab": {
          "base_uri": "https://localhost:8080/",
          "height": 306
        },
        "id": "Op7nbdjjz-py",
        "outputId": "9b1f105d-2634-445a-d9e9-0621d63e93e0"
      },
      "source": [
        "wordcloud(data_ide,'identity_hate')"
      ],
      "execution_count": null,
      "outputs": [
        {
          "output_type": "display_data",
          "data": {
            "image/png": "[encoded data removed]",
            "text/plain": [
              "<Figure size 1440x1440 with 1 Axes>"
            ]
          },
          "metadata": {
            "tags": [],
            "needs_background": "light"
          }
        }
      ]
    },
    {
      "cell_type": "code",
      "metadata": {
        "colab": {
          "base_uri": "https://localhost:8080/",
          "height": 306
        },
        "id": "s7WJvDOtz-pz",
        "outputId": "560888c2-c1ba-4573-ff69-24e5b1a9b738"
      },
      "source": [
        "wordcloud(data_ins, 'insult')"
      ],
      "execution_count": null,
      "outputs": [
        {
          "output_type": "display_data",
          "data": {
            "image/png": "[encoded data removed]",
            "text/plain": [
              "<Figure size 1440x1440 with 1 Axes>"
            ]
          },
          "metadata": {
            "tags": [],
            "needs_background": "light"
          }
        }
      ]
    },
    {
      "cell_type": "markdown",
      "metadata": {
        "id": "8pFWYtM4z-p0"
      },
      "source": [
        "#### Earlier, we saw that comments that are toxic (and other forms of toxicity) make up less than 10% of the comments in the data. This leads to the issue of class imbalance.\n",
        "\n",
        "#### We can deal with class imbalance by taking a subset of the data where the proportion of the toxic comments are at least 20% (ideally 50%) in relation to non-toxic comments.\n",
        "\n",
        "#### For a start, we can take 5000 rows of comments that are toxic and concatenate them row-wise with those that are not toxic so that we have a balanced dataset."
      ]
    },
    {
      "cell_type": "code",
      "metadata": {
        "colab": {
          "base_uri": "https://localhost:8080/",
          "height": 204
        },
        "id": "4NillJ9Fz-p1",
        "outputId": "b23e002b-2e2d-4ef8-8b09-9aa8b8bf49ae"
      },
      "source": [
        "data_tox.head()"
      ],
      "execution_count": null,
      "outputs": [
        {
          "output_type": "execute_result",
          "data": {
            "text/html": [
              "<div>\n",
              "<style scoped>\n",
              "    .dataframe tbody tr th:only-of-type {\n",
              "        vertical-align: middle;\n",
              "    }\n",
              "\n",
              "    .dataframe tbody tr th {\n",
              "        vertical-align: top;\n",
              "    }\n",
              "\n",
              "    .dataframe thead th {\n",
              "        text-align: right;\n",
              "    }\n",
              "</style>\n",
              "<table border=\"1\" class=\"dataframe\">\n",
              "  <thead>\n",
              "    <tr style=\"text-align: right;\">\n",
              "      <th></th>\n",
              "      <th>id</th>\n",
              "      <th>comment_text</th>\n",
              "      <th>toxic</th>\n",
              "    </tr>\n",
              "  </thead>\n",
              "  <tbody>\n",
              "    <tr>\n",
              "      <th>0</th>\n",
              "      <td>0000997932d777bf</td>\n",
              "      <td>explanation why the edits made under my userna...</td>\n",
              "      <td>0</td>\n",
              "    </tr>\n",
              "    <tr>\n",
              "      <th>1</th>\n",
              "      <td>000103f0d9cfb60f</td>\n",
              "      <td>d aww  he matches this background colour i m s...</td>\n",
              "      <td>0</td>\n",
              "    </tr>\n",
              "    <tr>\n",
              "      <th>2</th>\n",
              "      <td>000113f07ec002fd</td>\n",
              "      <td>hey man  i m really not trying to edit war  it...</td>\n",
              "      <td>0</td>\n",
              "    </tr>\n",
              "    <tr>\n",
              "      <th>3</th>\n",
              "      <td>0001b41b1c6bb37e</td>\n",
              "      <td>more i can t make any real suggestions on im...</td>\n",
              "      <td>0</td>\n",
              "    </tr>\n",
              "    <tr>\n",
              "      <th>4</th>\n",
              "      <td>0001d958c54c6e35</td>\n",
              "      <td>you  sir  are my hero  any chance you remember...</td>\n",
              "      <td>0</td>\n",
              "    </tr>\n",
              "  </tbody>\n",
              "</table>\n",
              "</div>"
            ],
            "text/plain": [
              "                 id                                       comment_text  toxic\n",
              "0  0000997932d777bf  explanation why the edits made under my userna...      0\n",
              "1  000103f0d9cfb60f  d aww  he matches this background colour i m s...      0\n",
              "2  000113f07ec002fd  hey man  i m really not trying to edit war  it...      0\n",
              "3  0001b41b1c6bb37e    more i can t make any real suggestions on im...      0\n",
              "4  0001d958c54c6e35  you  sir  are my hero  any chance you remember...      0"
            ]
          },
          "metadata": {
            "tags": []
          },
          "execution_count": 99
        }
      ]
    },
    {
      "cell_type": "code",
      "metadata": {
        "colab": {
          "base_uri": "https://localhost:8080/"
        },
        "id": "-Y0lMZa9z-p2",
        "outputId": "ca21c990-ec11-4bfc-d993-4bd37445d861"
      },
      "source": [
        "data_tox_1 = data_tox[data_tox['toxic'] == 1].iloc[0:5000,:]\n",
        "data_tox_1.shape"
      ],
      "execution_count": null,
      "outputs": [
        {
          "output_type": "execute_result",
          "data": {
            "text/plain": [
              "(5000, 3)"
            ]
          },
          "metadata": {
            "tags": []
          },
          "execution_count": 100
        }
      ]
    },
    {
      "cell_type": "code",
      "metadata": {
        "id": "wp7WcWDXz-p3"
      },
      "source": [
        "data_tox_0 = data_tox[data_tox['toxic'] == 0].iloc[0:5000,:]"
      ],
      "execution_count": null,
      "outputs": []
    },
    {
      "cell_type": "code",
      "metadata": {
        "colab": {
          "base_uri": "https://localhost:8080/"
        },
        "id": "4BjYmZkYz-p4",
        "outputId": "d37301c3-d9fd-4721-d986-54e20c4dc086"
      },
      "source": [
        "data_tox_done = pd.concat([data_tox_1, data_tox_0], axis=0)\n",
        "data_tox_done.shape"
      ],
      "execution_count": null,
      "outputs": [
        {
          "output_type": "execute_result",
          "data": {
            "text/plain": [
              "(10000, 3)"
            ]
          },
          "metadata": {
            "tags": []
          },
          "execution_count": 102
        }
      ]
    },
    {
      "cell_type": "markdown",
      "metadata": {
        "id": "RFEtMneDz-p5"
      },
      "source": [
        "### Not all categories have 5000 rows. So we should count them first and make them balanced."
      ]
    },
    {
      "cell_type": "code",
      "metadata": {
        "colab": {
          "base_uri": "https://localhost:8080/"
        },
        "id": "3jHpNF5iz-p5",
        "outputId": "91a67250-2ba6-4085-d60b-94e79abc1f65"
      },
      "source": [
        "data_sev[data_sev['severe_toxic'] == 1].count()\n"
      ],
      "execution_count": null,
      "outputs": [
        {
          "output_type": "execute_result",
          "data": {
            "text/plain": [
              "id              1595\n",
              "comment_text    1595\n",
              "severe_toxic    1595\n",
              "dtype: int64"
            ]
          },
          "metadata": {
            "tags": []
          },
          "execution_count": 103
        }
      ]
    },
    {
      "cell_type": "code",
      "metadata": {
        "colab": {
          "base_uri": "https://localhost:8080/"
        },
        "id": "3q2je08Zz-p6",
        "outputId": "2d3a2e75-4242-4c17-aed6-c7fc1197fd3b"
      },
      "source": [
        "data_sev_1 = data_sev[data_sev['severe_toxic'] == 1].iloc[0:1595,:]\n",
        "data_sev_0 = data_sev[data_sev['severe_toxic'] == 0].iloc[0:1595,:]\n",
        "data_sev_done = pd.concat([data_sev_1, data_sev_0], axis=0)\n",
        "data_sev_done.shape"
      ],
      "execution_count": null,
      "outputs": [
        {
          "output_type": "execute_result",
          "data": {
            "text/plain": [
              "(3190, 3)"
            ]
          },
          "metadata": {
            "tags": []
          },
          "execution_count": 104
        }
      ]
    },
    {
      "cell_type": "markdown",
      "metadata": {
        "id": "IfjPorFoz-p7"
      },
      "source": [
        "Cool. We only had 1,595 comments that are severely toxic. We combine it together with another 1,595 comments that are not toxic to form a new dataset that is balanced. We repeat this for all other categories."
      ]
    },
    {
      "cell_type": "code",
      "metadata": {
        "colab": {
          "base_uri": "https://localhost:8080/"
        },
        "id": "SMMXspOLz-p8",
        "outputId": "10ed5b7b-86a8-4deb-9701-8184b143915b"
      },
      "source": [
        "data_obs[data_obs['obscene'] == 1].count()"
      ],
      "execution_count": null,
      "outputs": [
        {
          "output_type": "execute_result",
          "data": {
            "text/plain": [
              "id              8449\n",
              "comment_text    8449\n",
              "obscene         8449\n",
              "dtype: int64"
            ]
          },
          "metadata": {
            "tags": []
          },
          "execution_count": 105
        }
      ]
    },
    {
      "cell_type": "code",
      "metadata": {
        "colab": {
          "base_uri": "https://localhost:8080/"
        },
        "id": "YdVG8xuRz-p8",
        "outputId": "6c4cfb1c-4b0e-4164-a299-a3d4fd53133f"
      },
      "source": [
        "data_obs_1 = data_obs[data_obs['obscene'] == 1].iloc[0:5000,:]\n",
        "data_obs_0 = data_obs[data_obs['obscene'] == 0].iloc[0:5000,:]\n",
        "data_obs_done = pd.concat([data_obs_1, data_obs_0], axis=0)\n",
        "data_obs_done.shape"
      ],
      "execution_count": null,
      "outputs": [
        {
          "output_type": "execute_result",
          "data": {
            "text/plain": [
              "(10000, 3)"
            ]
          },
          "metadata": {
            "tags": []
          },
          "execution_count": 106
        }
      ]
    },
    {
      "cell_type": "code",
      "metadata": {
        "colab": {
          "base_uri": "https://localhost:8080/"
        },
        "id": "M1dyd-drz-p9",
        "outputId": "949f1c87-4d6e-4790-ee9e-4ce3d37a7dc8"
      },
      "source": [
        "data_thr[data_thr['threat'] == 1].count()"
      ],
      "execution_count": null,
      "outputs": [
        {
          "output_type": "execute_result",
          "data": {
            "text/plain": [
              "id              478\n",
              "comment_text    478\n",
              "threat          478\n",
              "dtype: int64"
            ]
          },
          "metadata": {
            "tags": []
          },
          "execution_count": 107
        }
      ]
    },
    {
      "cell_type": "markdown",
      "metadata": {
        "id": "8dfDA4Q_z-p-"
      },
      "source": [
        "The number of threat comments of 478 is too miniscule when addded with another 478 clean comments for a proper analysis. We decided that the clean comments will comprise 80% at the most of the dataset, as shown below."
      ]
    },
    {
      "cell_type": "code",
      "metadata": {
        "colab": {
          "base_uri": "https://localhost:8080/"
        },
        "id": "xLVnBZmkz-p-",
        "outputId": "78b981d9-6cdd-4e38-a41c-659d241161ba"
      },
      "source": [
        "data_thr_1 = data_thr[data_thr['threat'] == 1].iloc[0:478,:]\n",
        "\n",
        "# We include 1912 comments that have no threat so that the data with threat (478) will represent 20% of the dataset.\n",
        "data_thr_0 = data_thr[data_thr['threat'] == 0].iloc[0:1912,:]  \n",
        "data_thr_done = pd.concat([data_thr_1, data_thr_0], axis=0)\n",
        "data_thr_done.shape"
      ],
      "execution_count": null,
      "outputs": [
        {
          "output_type": "execute_result",
          "data": {
            "text/plain": [
              "(2390, 3)"
            ]
          },
          "metadata": {
            "tags": []
          },
          "execution_count": 108
        }
      ]
    },
    {
      "cell_type": "code",
      "metadata": {
        "colab": {
          "base_uri": "https://localhost:8080/"
        },
        "id": "NPTGc9q1z-p_",
        "outputId": "a3a37a98-c1b7-42d0-b5d6-e5351d69521f"
      },
      "source": [
        "data_ins[data_ins['insult'] == 1].count()"
      ],
      "execution_count": null,
      "outputs": [
        {
          "output_type": "execute_result",
          "data": {
            "text/plain": [
              "id              7877\n",
              "comment_text    7877\n",
              "insult          7877\n",
              "dtype: int64"
            ]
          },
          "metadata": {
            "tags": []
          },
          "execution_count": 109
        }
      ]
    },
    {
      "cell_type": "code",
      "metadata": {
        "colab": {
          "base_uri": "https://localhost:8080/"
        },
        "id": "Td2F_rgcz-qA",
        "outputId": "87ef622b-350a-4de7-8a1d-ab487386fe7d"
      },
      "source": [
        "data_ins_1 = data_ins[data_ins['insult'] == 1].iloc[0:5000,:]\n",
        "data_ins_0 = data_ins[data_ins['insult'] == 0].iloc[0:5000,:]\n",
        "data_ins_done = pd.concat([data_ins_1, data_ins_0], axis=0)\n",
        "data_ins_done.shape"
      ],
      "execution_count": null,
      "outputs": [
        {
          "output_type": "execute_result",
          "data": {
            "text/plain": [
              "(10000, 3)"
            ]
          },
          "metadata": {
            "tags": []
          },
          "execution_count": 110
        }
      ]
    },
    {
      "cell_type": "code",
      "metadata": {
        "colab": {
          "base_uri": "https://localhost:8080/"
        },
        "id": "1eQQnrEmz-qB",
        "outputId": "f1351e99-4a0b-43cd-e475-5a5c9b5ba788"
      },
      "source": [
        "data_ide[data_ide['identity_hate'] == 1].count()"
      ],
      "execution_count": null,
      "outputs": [
        {
          "output_type": "execute_result",
          "data": {
            "text/plain": [
              "id               1405\n",
              "comment_text     1405\n",
              "identity_hate    1405\n",
              "dtype: int64"
            ]
          },
          "metadata": {
            "tags": []
          },
          "execution_count": 111
        }
      ]
    },
    {
      "cell_type": "code",
      "metadata": {
        "colab": {
          "base_uri": "https://localhost:8080/"
        },
        "id": "EF_WQcj7z-qB",
        "outputId": "ed72be2d-81e9-4ee3-831f-aa1827ce23d1"
      },
      "source": [
        "data_ide_1 = data_ide[data_ide['identity_hate'] == 1].iloc[0:1405,:] # 20%\n",
        "data_ide_0 = data_ide[data_ide['identity_hate'] == 0].iloc[0:5620,:] # 80%\n",
        "data_ide_done = pd.concat([data_ide_1, data_ide_0], axis=0)\n",
        "data_ide_done.shape"
      ],
      "execution_count": null,
      "outputs": [
        {
          "output_type": "execute_result",
          "data": {
            "text/plain": [
              "(7025, 3)"
            ]
          },
          "metadata": {
            "tags": []
          },
          "execution_count": 112
        }
      ]
    },
    {
      "cell_type": "markdown",
      "metadata": {
        "id": "y-qTctyjz-qJ"
      },
      "source": [
        "Reminder: Number of comments that fall into the following categories:\n",
        "\n",
        "- Toxic (14,000+) \n",
        "- Severe Toxic (1595)\n",
        "- Obscene (8449)\n",
        "- Threat (478)\n",
        "- Insult (7877)\n",
        "- Identity Hate (1405)"
      ]
    },
    {
      "cell_type": "markdown",
      "metadata": {
        "id": "dyi9Eu97z-qK"
      },
      "source": [
        "#### df_****_done refers to the dataframes of each class that has been balanced (at least 20/80 proportion)"
      ]
    },
    {
      "cell_type": "markdown",
      "metadata": {
        "id": "Z9rA4j3vz-qK"
      },
      "source": [
        "|                      | DF name       | No. of pts (1) | No. of pts (0) | Total data pts |\n",
        "|----------------------|---------------|----------------|----------------|----------------|\n",
        "| Toxic                | data_tox_done | 5000           | 5000           | 10000          |\n",
        "| Severe Toxic         | data_sev_done | 1595           | 1595           | 3190           |\n",
        "| Obscene (8449)       | data_obs_done | 5000           | 5000           | 10000          |\n",
        "| Threat (478)         | data_thr_done | 478            | 1912           | 2390           |\n",
        "| Insult (7877)        | data_ins_done | 5000           | 5000           | 10000          |\n",
        "| Identity Hate (1405) | data_ide_done | 1405           | 5620           | 7025           |"
      ]
    },
    {
      "cell_type": "markdown",
      "metadata": {
        "id": "jt68Xeuhz-qL"
      },
      "source": [
        "### Import relevant packages for modelling"
      ]
    },
    {
      "cell_type": "code",
      "metadata": {
        "id": "Urh1TSs9z-qM"
      },
      "source": [
        "# Import packages for pre-processing\n",
        "from sklearn import preprocessing\n",
        "from sklearn.feature_selection import SelectFromModel\n",
        "\n",
        "# Import tools to split data and evaluate model performance\n",
        "from sklearn.model_selection import train_test_split, KFold, cross_val_score\n",
        "from sklearn.metrics import f1_score, precision_score, recall_score, precision_recall_curve, fbeta_score, confusion_matrix\n",
        "from sklearn.metrics import roc_auc_score, roc_curve\n",
        "\n",
        "# Import ML algos\n",
        "from sklearn.linear_model import LogisticRegression\n",
        "from sklearn.neighbors import KNeighborsClassifier\n",
        "from sklearn.naive_bayes import MultinomialNB, BernoulliNB\n",
        "from sklearn.svm import LinearSVC\n",
        "from sklearn.ensemble import RandomForestClassifier\n"
      ],
      "execution_count": null,
      "outputs": []
    },
    {
      "cell_type": "markdown",
      "metadata": {
        "id": "QpZiUDzvz-qN"
      },
      "source": [
        "### Create simple function that takes in a dataset and allows user to choose dataset, toxicity label, vectorizer and number of ngrams"
      ]
    },
    {
      "cell_type": "code",
      "metadata": {
        "id": "CPrWqV9uz-qN"
      },
      "source": [
        "'''\n",
        "df_done: data_tox_done, data_sev_done, ...\n",
        "label: toxic, severe_toxic, ...\n",
        "vectorizer values: CountVectorizer, TfidfVectorizer\n",
        "gram_range values: (1,1) for unigram, (2,2) for bigram\n",
        "'''\n",
        "def cv_tf_train_test(df_done,label,vectorizer,ngram):\n",
        "\n",
        "    ''' Train/Test split'''\n",
        "    # Split the data into X and y data sets\n",
        "    X = df_done.comment_text\n",
        "    y = df_done[label]\n",
        "\n",
        "    # Split our data into training and test data \n",
        "    X_train, X_test, y_train, y_test = train_test_split(X, y, test_size=0.3, random_state=42)\n",
        "\n",
        "    ''' Count Vectorizer/TF-IDF '''\n",
        "\n",
        "    # Create a Vectorizer object and remove stopwords from the table\n",
        "    cv1 = vectorizer(ngram_range=(ngram), stop_words='english')\n",
        "    \n",
        "    X_train_cv1 = cv1.fit_transform(X_train) # Learn the vocabulary dictionary and return term-document matrix\n",
        "    X_test_cv1  = cv1.transform(X_test)      # Learn a vocabulary dictionary of all tokens in the raw documents.\n",
        "    \n",
        "    # Output a Dataframe of the CountVectorizer with unique words as the labels\n",
        "    # test = pd.DataFrame(X_train_cv1.toarray(), columns=cv1.get_feature_names())\n",
        "        \n",
        "    ''' Initialize all model objects and fit the models on the training data '''\n",
        "    lr = LogisticRegression()\n",
        "    lr.fit(X_train_cv1, y_train)\n",
        "    print('lr done')\n",
        "\n",
        "    knn = KNeighborsClassifier(n_neighbors=5)\n",
        "    knn.fit(X_train_cv1, y_train)\n",
        "\n",
        "    bnb = BernoulliNB()\n",
        "    bnb.fit(X_train_cv1, y_train)\n",
        "    print('bnb done')\n",
        "    \n",
        "    mnb = MultinomialNB()\n",
        "    mnb.fit(X_train_cv1, y_train)\n",
        "    print('mnb done')\n",
        "    \n",
        "    svm_model = LinearSVC()\n",
        "    svm_model.fit(X_train_cv1, y_train)\n",
        "\n",
        "    randomforest = RandomForestClassifier(n_estimators=100, random_state=42)\n",
        "    randomforest.fit(X_train_cv1, y_train)\n",
        "    print('rdf done')\n",
        "    \n",
        "    # Create a list of F1 score of all models \n",
        "    f1_score_data = {'F1 Score':[f1_score(lr.predict(X_test_cv1), y_test), f1_score(knn.predict(X_test_cv1), y_test), \n",
        "                                f1_score(bnb.predict(X_test_cv1), y_test), f1_score(mnb.predict(X_test_cv1), y_test),\n",
        "                                f1_score(svm_model.predict(X_test_cv1), y_test), f1_score(randomforest.predict(X_test_cv1), y_test)]} \n",
        "                          \n",
        "    # Create DataFrame with the model names as column labels\n",
        "    df_f1 = pd.DataFrame(f1_score_data, index=['Log Regression','KNN', 'BernoulliNB', 'MultinomialNB', 'SVM', 'Random Forest'])  \n",
        "\n",
        "    return df_f1\n"
      ],
      "execution_count": null,
      "outputs": []
    },
    {
      "cell_type": "markdown",
      "metadata": {
        "id": "RsnEM0A2z-qP"
      },
      "source": [
        "### Let's create a TF-IDF vectorizer object for each category and calculate the F1 scores across all models"
      ]
    },
    {
      "cell_type": "code",
      "metadata": {
        "colab": {
          "base_uri": "https://localhost:8080/"
        },
        "id": "SpdO4rizz-qQ",
        "outputId": "c50c2c98-7e78-4014-cea9-dbdd48a75d9c"
      },
      "source": [
        "'''\n",
        "def cv_tf_train_test(df_done,label,vectorizer,ngram)\n",
        "vectorizer values: CountVectorizer, TfidfVectorizer\n",
        "ngram_range values: (1,1) for unigram, (2,2) for bigram\n",
        "'''\n",
        "\n",
        "import time\n",
        "\n",
        "t0 = time.time()\n",
        "\n",
        "df_tox_cv = cv_tf_train_test(data_tox_done, 'toxic', TfidfVectorizer, (1,1))\n",
        "df_tox_cv.rename(columns={'F1 Score': 'F1 Score(toxic)'}, inplace=True)\n",
        "\n",
        "t1 = time.time()\n",
        "\n",
        "total = 'Time taken: {} seconds'.format(t1-t0)\n",
        "print(total)\n",
        "\n",
        "df_tox_cv\n",
        "\n",
        "# Various permutations of the dataset, category, vectorizer and n-gram\n",
        "\n",
        "# cv_tf_train_test(data_tox_done, 'toxic', CountVectorizer, (1,1))\n",
        "# cv_tf_train_test(data_sev_done, 'severe_toxic', CountVectorizer, (1,1))\n",
        "# cv_tf_train_test(data_obs_done, 'obscene', CountVectorizer, (1,1))\n",
        "# cv_tf_train_test(data_thr_done, 'threat', CountVectorizer, (1,1))\n",
        "# cv_tf_train_test(data_ins_done, 'insult', CountVectorizer, (1,1))\n",
        "# cv_tf_train_test(data_ide_done, 'identity_hate', CountVectorizer, (1,1))\n",
        "\n",
        "# cv_tf_train_test(data_tox_done, 'toxic', TfidfVectorizer, (1,1))\n",
        "# cv_tf_train_test(data_sev_done, 'severe_toxic', TfidfVectorizer, (1,1))\n",
        "# cv_tf_train_test(data_obs_done, 'obscene', TfidfVectorizer, (1,1))\n",
        "# cv_tf_train_test(data_thr_done, 'threat', TfidfVectorizer, (1,1))\n",
        "# cv_tf_train_test(data_ins_done, 'insult', TfidfVectorizer, (1,1))\n",
        "# cv_tf_train_test(data_ide_done, 'identity_hate', TfidfVectorizer, (1,1))\n"
      ],
      "execution_count": null,
      "outputs": [
        {
          "output_type": "stream",
          "text": [
            "lr done\n",
            "bnb done\n",
            "mnb done\n",
            "rdf done\n",
            "Time taken: 10.975812196731567 seconds\n"
          ],
          "name": "stdout"
        },
        {
          "output_type": "execute_result",
          "data": {
            "text/html": [
              "<div>\n",
              "<style scoped>\n",
              "    .dataframe tbody tr th:only-of-type {\n",
              "        vertical-align: middle;\n",
              "    }\n",
              "\n",
              "    .dataframe tbody tr th {\n",
              "        vertical-align: top;\n",
              "    }\n",
              "\n",
              "    .dataframe thead th {\n",
              "        text-align: right;\n",
              "    }\n",
              "</style>\n",
              "<table border=\"1\" class=\"dataframe\">\n",
              "  <thead>\n",
              "    <tr style=\"text-align: right;\">\n",
              "      <th></th>\n",
              "      <th>F1 Score(toxic)</th>\n",
              "    </tr>\n",
              "  </thead>\n",
              "  <tbody>\n",
              "    <tr>\n",
              "      <th>Log Regression</th>\n",
              "      <td>0.860846</td>\n",
              "    </tr>\n",
              "    <tr>\n",
              "      <th>KNN</th>\n",
              "      <td>0.199301</td>\n",
              "    </tr>\n",
              "    <tr>\n",
              "      <th>BernoulliNB</th>\n",
              "      <td>0.776521</td>\n",
              "    </tr>\n",
              "    <tr>\n",
              "      <th>MultinomialNB</th>\n",
              "      <td>0.874581</td>\n",
              "    </tr>\n",
              "    <tr>\n",
              "      <th>SVM</th>\n",
              "      <td>0.876133</td>\n",
              "    </tr>\n",
              "    <tr>\n",
              "      <th>Random Forest</th>\n",
              "      <td>0.839532</td>\n",
              "    </tr>\n",
              "  </tbody>\n",
              "</table>\n",
              "</div>"
            ],
            "text/plain": [
              "                F1 Score(toxic)\n",
              "Log Regression         0.860846\n",
              "KNN                    0.199301\n",
              "BernoulliNB            0.776521\n",
              "MultinomialNB          0.874581\n",
              "SVM                    0.876133\n",
              "Random Forest          0.839532"
            ]
          },
          "metadata": {
            "tags": []
          },
          "execution_count": 115
        }
      ]
    },
    {
      "cell_type": "code",
      "metadata": {
        "colab": {
          "base_uri": "https://localhost:8080/"
        },
        "id": "n98_PceBz-qR",
        "outputId": "e47b94c1-0b27-4e7f-80c6-930f41b303f5"
      },
      "source": [
        "\n",
        "t0 = time.time()\n",
        "\n",
        "df_sev_cv = cv_tf_train_test(data_sev_done, 'severe_toxic', TfidfVectorizer, (1,1))\n",
        "df_sev_cv.rename(columns={'F1 Score': 'F1 Score(severe_toxic)'}, inplace=True)\n",
        "\n",
        "t1 = time.time()\n",
        "\n",
        "total = 'Time taken: {} seconds'.format(t1-t0)\n",
        "print(total)\n",
        "df_sev_cv"
      ],
      "execution_count": null,
      "outputs": [
        {
          "output_type": "stream",
          "text": [
            "lr done\n",
            "bnb done\n",
            "mnb done\n",
            "rdf done\n",
            "Time taken: 1.995708703994751 seconds\n"
          ],
          "name": "stdout"
        },
        {
          "output_type": "execute_result",
          "data": {
            "text/html": [
              "<div>\n",
              "<style scoped>\n",
              "    .dataframe tbody tr th:only-of-type {\n",
              "        vertical-align: middle;\n",
              "    }\n",
              "\n",
              "    .dataframe tbody tr th {\n",
              "        vertical-align: top;\n",
              "    }\n",
              "\n",
              "    .dataframe thead th {\n",
              "        text-align: right;\n",
              "    }\n",
              "</style>\n",
              "<table border=\"1\" class=\"dataframe\">\n",
              "  <thead>\n",
              "    <tr style=\"text-align: right;\">\n",
              "      <th></th>\n",
              "      <th>F1 Score(severe_toxic)</th>\n",
              "    </tr>\n",
              "  </thead>\n",
              "  <tbody>\n",
              "    <tr>\n",
              "      <th>Log Regression</th>\n",
              "      <td>0.927879</td>\n",
              "    </tr>\n",
              "    <tr>\n",
              "      <th>KNN</th>\n",
              "      <td>0.856597</td>\n",
              "    </tr>\n",
              "    <tr>\n",
              "      <th>BernoulliNB</th>\n",
              "      <td>0.803707</td>\n",
              "    </tr>\n",
              "    <tr>\n",
              "      <th>MultinomialNB</th>\n",
              "      <td>0.936170</td>\n",
              "    </tr>\n",
              "    <tr>\n",
              "      <th>SVM</th>\n",
              "      <td>0.926004</td>\n",
              "    </tr>\n",
              "    <tr>\n",
              "      <th>Random Forest</th>\n",
              "      <td>0.940563</td>\n",
              "    </tr>\n",
              "  </tbody>\n",
              "</table>\n",
              "</div>"
            ],
            "text/plain": [
              "                F1 Score(severe_toxic)\n",
              "Log Regression                0.927879\n",
              "KNN                           0.856597\n",
              "BernoulliNB                   0.803707\n",
              "MultinomialNB                 0.936170\n",
              "SVM                           0.926004\n",
              "Random Forest                 0.940563"
            ]
          },
          "metadata": {
            "tags": []
          },
          "execution_count": 116
        }
      ]
    },
    {
      "cell_type": "code",
      "metadata": {
        "colab": {
          "base_uri": "https://localhost:8080/"
        },
        "id": "h-kpY8kUz-qS",
        "outputId": "b1a11ad1-9c00-49a1-a874-35c72cfdad85"
      },
      "source": [
        "\n",
        "t0 = time.time()\n",
        "\n",
        "df_obs_cv = cv_tf_train_test(data_obs_done, 'obscene', TfidfVectorizer, (1,1))\n",
        "df_obs_cv.rename(columns={'F1 Score': 'F1 Score(obscene)'}, inplace=True)\n",
        "\n",
        "t1 = time.time()\n",
        "\n",
        "total = 'Time taken: {} seconds'.format(t1-t0)\n",
        "print(total)\n",
        "\n",
        "df_obs_cv"
      ],
      "execution_count": null,
      "outputs": [
        {
          "output_type": "stream",
          "text": [
            "lr done\n",
            "bnb done\n",
            "mnb done\n",
            "rdf done\n",
            "Time taken: 10.111711263656616 seconds\n"
          ],
          "name": "stdout"
        },
        {
          "output_type": "execute_result",
          "data": {
            "text/html": [
              "<div>\n",
              "<style scoped>\n",
              "    .dataframe tbody tr th:only-of-type {\n",
              "        vertical-align: middle;\n",
              "    }\n",
              "\n",
              "    .dataframe tbody tr th {\n",
              "        vertical-align: top;\n",
              "    }\n",
              "\n",
              "    .dataframe thead th {\n",
              "        text-align: right;\n",
              "    }\n",
              "</style>\n",
              "<table border=\"1\" class=\"dataframe\">\n",
              "  <thead>\n",
              "    <tr style=\"text-align: right;\">\n",
              "      <th></th>\n",
              "      <th>F1 Score(obscene)</th>\n",
              "    </tr>\n",
              "  </thead>\n",
              "  <tbody>\n",
              "    <tr>\n",
              "      <th>Log Regression</th>\n",
              "      <td>0.908655</td>\n",
              "    </tr>\n",
              "    <tr>\n",
              "      <th>KNN</th>\n",
              "      <td>0.519196</td>\n",
              "    </tr>\n",
              "    <tr>\n",
              "      <th>BernoulliNB</th>\n",
              "      <td>0.787830</td>\n",
              "    </tr>\n",
              "    <tr>\n",
              "      <th>MultinomialNB</th>\n",
              "      <td>0.901757</td>\n",
              "    </tr>\n",
              "    <tr>\n",
              "      <th>SVM</th>\n",
              "      <td>0.921739</td>\n",
              "    </tr>\n",
              "    <tr>\n",
              "      <th>Random Forest</th>\n",
              "      <td>0.912021</td>\n",
              "    </tr>\n",
              "  </tbody>\n",
              "</table>\n",
              "</div>"
            ],
            "text/plain": [
              "                F1 Score(obscene)\n",
              "Log Regression           0.908655\n",
              "KNN                      0.519196\n",
              "BernoulliNB              0.787830\n",
              "MultinomialNB            0.901757\n",
              "SVM                      0.921739\n",
              "Random Forest            0.912021"
            ]
          },
          "metadata": {
            "tags": []
          },
          "execution_count": 117
        }
      ]
    },
    {
      "cell_type": "code",
      "metadata": {
        "colab": {
          "base_uri": "https://localhost:8080/"
        },
        "id": "gmniSL95z-qT",
        "outputId": "49c0bf45-2fbb-40e6-9507-02bddf21aec1"
      },
      "source": [
        "\n",
        "t0 = time.time()\n",
        "\n",
        "df_thr_cv = cv_tf_train_test(data_thr_done, 'threat', TfidfVectorizer, (1,1))\n",
        "df_thr_cv.rename(columns={'F1 Score': 'F1 Score(threat)'}, inplace=True)\n",
        "\n",
        "t1 = time.time()\n",
        "\n",
        "total = 'Time taken: {} seconds'.format(t1-t0)\n",
        "print(total)\n",
        "\n",
        "df_thr_cv"
      ],
      "execution_count": null,
      "outputs": [
        {
          "output_type": "stream",
          "text": [
            "lr done\n",
            "bnb done\n",
            "mnb done\n",
            "rdf done\n",
            "Time taken: 1.3822948932647705 seconds\n"
          ],
          "name": "stdout"
        },
        {
          "output_type": "execute_result",
          "data": {
            "text/html": [
              "<div>\n",
              "<style scoped>\n",
              "    .dataframe tbody tr th:only-of-type {\n",
              "        vertical-align: middle;\n",
              "    }\n",
              "\n",
              "    .dataframe tbody tr th {\n",
              "        vertical-align: top;\n",
              "    }\n",
              "\n",
              "    .dataframe thead th {\n",
              "        text-align: right;\n",
              "    }\n",
              "</style>\n",
              "<table border=\"1\" class=\"dataframe\">\n",
              "  <thead>\n",
              "    <tr style=\"text-align: right;\">\n",
              "      <th></th>\n",
              "      <th>F1 Score(threat)</th>\n",
              "    </tr>\n",
              "  </thead>\n",
              "  <tbody>\n",
              "    <tr>\n",
              "      <th>Log Regression</th>\n",
              "      <td>0.628821</td>\n",
              "    </tr>\n",
              "    <tr>\n",
              "      <th>KNN</th>\n",
              "      <td>0.720000</td>\n",
              "    </tr>\n",
              "    <tr>\n",
              "      <th>BernoulliNB</th>\n",
              "      <td>0.311828</td>\n",
              "    </tr>\n",
              "    <tr>\n",
              "      <th>MultinomialNB</th>\n",
              "      <td>0.504762</td>\n",
              "    </tr>\n",
              "    <tr>\n",
              "      <th>SVM</th>\n",
              "      <td>0.791209</td>\n",
              "    </tr>\n",
              "    <tr>\n",
              "      <th>Random Forest</th>\n",
              "      <td>0.792593</td>\n",
              "    </tr>\n",
              "  </tbody>\n",
              "</table>\n",
              "</div>"
            ],
            "text/plain": [
              "                F1 Score(threat)\n",
              "Log Regression          0.628821\n",
              "KNN                     0.720000\n",
              "BernoulliNB             0.311828\n",
              "MultinomialNB           0.504762\n",
              "SVM                     0.791209\n",
              "Random Forest           0.792593"
            ]
          },
          "metadata": {
            "tags": []
          },
          "execution_count": 118
        }
      ]
    },
    {
      "cell_type": "code",
      "metadata": {
        "colab": {
          "base_uri": "https://localhost:8080/"
        },
        "id": "wpluforZz-qU",
        "outputId": "ae1d7c82-a9e4-4c7c-f94e-a2149c118eb9"
      },
      "source": [
        "\n",
        "t0 = time.time()\n",
        "\n",
        "df_ins_cv = cv_tf_train_test(data_ins_done, 'insult', TfidfVectorizer, (1,1))\n",
        "df_ins_cv.rename(columns={'F1 Score': 'F1 Score(insult)'}, inplace=True)\n",
        "\n",
        "t1 = time.time()\n",
        "\n",
        "total = 'Time taken: {} seconds'.format(t1-t0)\n",
        "print(total)\n",
        "\n",
        "df_ins_cv"
      ],
      "execution_count": null,
      "outputs": [
        {
          "output_type": "stream",
          "text": [
            "lr done\n",
            "bnb done\n",
            "mnb done\n",
            "rdf done\n",
            "Time taken: 10.122664213180542 seconds\n"
          ],
          "name": "stdout"
        },
        {
          "output_type": "execute_result",
          "data": {
            "text/html": [
              "<div>\n",
              "<style scoped>\n",
              "    .dataframe tbody tr th:only-of-type {\n",
              "        vertical-align: middle;\n",
              "    }\n",
              "\n",
              "    .dataframe tbody tr th {\n",
              "        vertical-align: top;\n",
              "    }\n",
              "\n",
              "    .dataframe thead th {\n",
              "        text-align: right;\n",
              "    }\n",
              "</style>\n",
              "<table border=\"1\" class=\"dataframe\">\n",
              "  <thead>\n",
              "    <tr style=\"text-align: right;\">\n",
              "      <th></th>\n",
              "      <th>F1 Score(insult)</th>\n",
              "    </tr>\n",
              "  </thead>\n",
              "  <tbody>\n",
              "    <tr>\n",
              "      <th>Log Regression</th>\n",
              "      <td>0.896599</td>\n",
              "    </tr>\n",
              "    <tr>\n",
              "      <th>KNN</th>\n",
              "      <td>0.256612</td>\n",
              "    </tr>\n",
              "    <tr>\n",
              "      <th>BernoulliNB</th>\n",
              "      <td>0.783762</td>\n",
              "    </tr>\n",
              "    <tr>\n",
              "      <th>MultinomialNB</th>\n",
              "      <td>0.896755</td>\n",
              "    </tr>\n",
              "    <tr>\n",
              "      <th>SVM</th>\n",
              "      <td>0.901882</td>\n",
              "    </tr>\n",
              "    <tr>\n",
              "      <th>Random Forest</th>\n",
              "      <td>0.883689</td>\n",
              "    </tr>\n",
              "  </tbody>\n",
              "</table>\n",
              "</div>"
            ],
            "text/plain": [
              "                F1 Score(insult)\n",
              "Log Regression          0.896599\n",
              "KNN                     0.256612\n",
              "BernoulliNB             0.783762\n",
              "MultinomialNB           0.896755\n",
              "SVM                     0.901882\n",
              "Random Forest           0.883689"
            ]
          },
          "metadata": {
            "tags": []
          },
          "execution_count": 119
        }
      ]
    },
    {
      "cell_type": "code",
      "metadata": {
        "colab": {
          "base_uri": "https://localhost:8080/"
        },
        "id": "zx8IhMbtz-qU",
        "outputId": "00c8294d-5b07-44d6-c6b9-658f8fc109a8"
      },
      "source": [
        "\n",
        "t0 = time.time()\n",
        "\n",
        "df_ide_cv = cv_tf_train_test(data_ide_done, 'identity_hate', TfidfVectorizer, (1,1))\n",
        "df_ide_cv.rename(columns={'F1 Score': 'F1 Score(identity_hate)'}, inplace=True)\n",
        "\n",
        "t1 = time.time()\n",
        "\n",
        "total = 'Time taken: {} seconds'.format(t1-t0)\n",
        "print(total)\n",
        "\n",
        "df_ide_cv"
      ],
      "execution_count": null,
      "outputs": [
        {
          "output_type": "stream",
          "text": [
            "lr done\n",
            "bnb done\n",
            "mnb done\n",
            "rdf done\n",
            "Time taken: 5.720024347305298 seconds\n"
          ],
          "name": "stdout"
        },
        {
          "output_type": "execute_result",
          "data": {
            "text/html": [
              "<div>\n",
              "<style scoped>\n",
              "    .dataframe tbody tr th:only-of-type {\n",
              "        vertical-align: middle;\n",
              "    }\n",
              "\n",
              "    .dataframe tbody tr th {\n",
              "        vertical-align: top;\n",
              "    }\n",
              "\n",
              "    .dataframe thead th {\n",
              "        text-align: right;\n",
              "    }\n",
              "</style>\n",
              "<table border=\"1\" class=\"dataframe\">\n",
              "  <thead>\n",
              "    <tr style=\"text-align: right;\">\n",
              "      <th></th>\n",
              "      <th>F1 Score(identity_hate)</th>\n",
              "    </tr>\n",
              "  </thead>\n",
              "  <tbody>\n",
              "    <tr>\n",
              "      <th>Log Regression</th>\n",
              "      <td>0.699029</td>\n",
              "    </tr>\n",
              "    <tr>\n",
              "      <th>KNN</th>\n",
              "      <td>0.222222</td>\n",
              "    </tr>\n",
              "    <tr>\n",
              "      <th>BernoulliNB</th>\n",
              "      <td>0.549206</td>\n",
              "    </tr>\n",
              "    <tr>\n",
              "      <th>MultinomialNB</th>\n",
              "      <td>0.483333</td>\n",
              "    </tr>\n",
              "    <tr>\n",
              "      <th>SVM</th>\n",
              "      <td>0.795031</td>\n",
              "    </tr>\n",
              "    <tr>\n",
              "      <th>Random Forest</th>\n",
              "      <td>0.784558</td>\n",
              "    </tr>\n",
              "  </tbody>\n",
              "</table>\n",
              "</div>"
            ],
            "text/plain": [
              "                F1 Score(identity_hate)\n",
              "Log Regression                 0.699029\n",
              "KNN                            0.222222\n",
              "BernoulliNB                    0.549206\n",
              "MultinomialNB                  0.483333\n",
              "SVM                            0.795031\n",
              "Random Forest                  0.784558"
            ]
          },
          "metadata": {
            "tags": []
          },
          "execution_count": 120
        }
      ]
    },
    {
      "cell_type": "code",
      "metadata": {
        "colab": {
          "base_uri": "https://localhost:8080/"
        },
        "id": "bQb06FCOz-qV",
        "outputId": "fb1a16bb-95e7-473f-f285-707044209d4f"
      },
      "source": [
        "# Let's combine the dataframes into a master dataframe to compare F1 scores across all categories.\n",
        "f1_all = pd.concat([df_tox_cv, df_sev_cv, df_obs_cv, df_ins_cv, df_thr_cv, df_ide_cv], axis=1)\n",
        "f1_all\n"
      ],
      "execution_count": null,
      "outputs": [
        {
          "output_type": "execute_result",
          "data": {
            "text/html": [
              "<div>\n",
              "<style scoped>\n",
              "    .dataframe tbody tr th:only-of-type {\n",
              "        vertical-align: middle;\n",
              "    }\n",
              "\n",
              "    .dataframe tbody tr th {\n",
              "        vertical-align: top;\n",
              "    }\n",
              "\n",
              "    .dataframe thead th {\n",
              "        text-align: right;\n",
              "    }\n",
              "</style>\n",
              "<table border=\"1\" class=\"dataframe\">\n",
              "  <thead>\n",
              "    <tr style=\"text-align: right;\">\n",
              "      <th></th>\n",
              "      <th>F1 Score(toxic)</th>\n",
              "      <th>F1 Score(severe_toxic)</th>\n",
              "      <th>F1 Score(obscene)</th>\n",
              "      <th>F1 Score(insult)</th>\n",
              "      <th>F1 Score(threat)</th>\n",
              "      <th>F1 Score(identity_hate)</th>\n",
              "    </tr>\n",
              "  </thead>\n",
              "  <tbody>\n",
              "    <tr>\n",
              "      <th>Log Regression</th>\n",
              "      <td>0.860846</td>\n",
              "      <td>0.927879</td>\n",
              "      <td>0.908655</td>\n",
              "      <td>0.896599</td>\n",
              "      <td>0.628821</td>\n",
              "      <td>0.699029</td>\n",
              "    </tr>\n",
              "    <tr>\n",
              "      <th>KNN</th>\n",
              "      <td>0.199301</td>\n",
              "      <td>0.856597</td>\n",
              "      <td>0.519196</td>\n",
              "      <td>0.256612</td>\n",
              "      <td>0.720000</td>\n",
              "      <td>0.222222</td>\n",
              "    </tr>\n",
              "    <tr>\n",
              "      <th>BernoulliNB</th>\n",
              "      <td>0.776521</td>\n",
              "      <td>0.803707</td>\n",
              "      <td>0.787830</td>\n",
              "      <td>0.783762</td>\n",
              "      <td>0.311828</td>\n",
              "      <td>0.549206</td>\n",
              "    </tr>\n",
              "    <tr>\n",
              "      <th>MultinomialNB</th>\n",
              "      <td>0.874581</td>\n",
              "      <td>0.936170</td>\n",
              "      <td>0.901757</td>\n",
              "      <td>0.896755</td>\n",
              "      <td>0.504762</td>\n",
              "      <td>0.483333</td>\n",
              "    </tr>\n",
              "    <tr>\n",
              "      <th>SVM</th>\n",
              "      <td>0.876133</td>\n",
              "      <td>0.926004</td>\n",
              "      <td>0.921739</td>\n",
              "      <td>0.901882</td>\n",
              "      <td>0.791209</td>\n",
              "      <td>0.795031</td>\n",
              "    </tr>\n",
              "    <tr>\n",
              "      <th>Random Forest</th>\n",
              "      <td>0.839532</td>\n",
              "      <td>0.940563</td>\n",
              "      <td>0.912021</td>\n",
              "      <td>0.883689</td>\n",
              "      <td>0.792593</td>\n",
              "      <td>0.784558</td>\n",
              "    </tr>\n",
              "  </tbody>\n",
              "</table>\n",
              "</div>"
            ],
            "text/plain": [
              "                F1 Score(toxic)  ...  F1 Score(identity_hate)\n",
              "Log Regression         0.860846  ...                 0.699029\n",
              "KNN                    0.199301  ...                 0.222222\n",
              "BernoulliNB            0.776521  ...                 0.549206\n",
              "MultinomialNB          0.874581  ...                 0.483333\n",
              "SVM                    0.876133  ...                 0.795031\n",
              "Random Forest          0.839532  ...                 0.784558\n",
              "\n",
              "[6 rows x 6 columns]"
            ]
          },
          "metadata": {
            "tags": []
          },
          "execution_count": 121
        }
      ]
    },
    {
      "cell_type": "markdown",
      "metadata": {
        "id": "-qisFaCRz-qW"
      },
      "source": [
        "### Transpose the combined F1 dataframe to make it suitable for presentation on a graph"
      ]
    },
    {
      "cell_type": "code",
      "metadata": {
        "colab": {
          "base_uri": "https://localhost:8080/"
        },
        "id": "4bgjqODuz-qW",
        "outputId": "58bb210d-910d-4d8a-ef76-066cbaca8970"
      },
      "source": [
        "f1_all_trp = f1_all.transpose()\n",
        "f1_all_trp"
      ],
      "execution_count": null,
      "outputs": [
        {
          "output_type": "execute_result",
          "data": {
            "text/html": [
              "<div>\n",
              "<style scoped>\n",
              "    .dataframe tbody tr th:only-of-type {\n",
              "        vertical-align: middle;\n",
              "    }\n",
              "\n",
              "    .dataframe tbody tr th {\n",
              "        vertical-align: top;\n",
              "    }\n",
              "\n",
              "    .dataframe thead th {\n",
              "        text-align: right;\n",
              "    }\n",
              "</style>\n",
              "<table border=\"1\" class=\"dataframe\">\n",
              "  <thead>\n",
              "    <tr style=\"text-align: right;\">\n",
              "      <th></th>\n",
              "      <th>Log Regression</th>\n",
              "      <th>KNN</th>\n",
              "      <th>BernoulliNB</th>\n",
              "      <th>MultinomialNB</th>\n",
              "      <th>SVM</th>\n",
              "      <th>Random Forest</th>\n",
              "    </tr>\n",
              "  </thead>\n",
              "  <tbody>\n",
              "    <tr>\n",
              "      <th>F1 Score(toxic)</th>\n",
              "      <td>0.860846</td>\n",
              "      <td>0.199301</td>\n",
              "      <td>0.776521</td>\n",
              "      <td>0.874581</td>\n",
              "      <td>0.876133</td>\n",
              "      <td>0.839532</td>\n",
              "    </tr>\n",
              "    <tr>\n",
              "      <th>F1 Score(severe_toxic)</th>\n",
              "      <td>0.927879</td>\n",
              "      <td>0.856597</td>\n",
              "      <td>0.803707</td>\n",
              "      <td>0.936170</td>\n",
              "      <td>0.926004</td>\n",
              "      <td>0.940563</td>\n",
              "    </tr>\n",
              "    <tr>\n",
              "      <th>F1 Score(obscene)</th>\n",
              "      <td>0.908655</td>\n",
              "      <td>0.519196</td>\n",
              "      <td>0.787830</td>\n",
              "      <td>0.901757</td>\n",
              "      <td>0.921739</td>\n",
              "      <td>0.912021</td>\n",
              "    </tr>\n",
              "    <tr>\n",
              "      <th>F1 Score(insult)</th>\n",
              "      <td>0.896599</td>\n",
              "      <td>0.256612</td>\n",
              "      <td>0.783762</td>\n",
              "      <td>0.896755</td>\n",
              "      <td>0.901882</td>\n",
              "      <td>0.883689</td>\n",
              "    </tr>\n",
              "    <tr>\n",
              "      <th>F1 Score(threat)</th>\n",
              "      <td>0.628821</td>\n",
              "      <td>0.720000</td>\n",
              "      <td>0.311828</td>\n",
              "      <td>0.504762</td>\n",
              "      <td>0.791209</td>\n",
              "      <td>0.792593</td>\n",
              "    </tr>\n",
              "    <tr>\n",
              "      <th>F1 Score(identity_hate)</th>\n",
              "      <td>0.699029</td>\n",
              "      <td>0.222222</td>\n",
              "      <td>0.549206</td>\n",
              "      <td>0.483333</td>\n",
              "      <td>0.795031</td>\n",
              "      <td>0.784558</td>\n",
              "    </tr>\n",
              "  </tbody>\n",
              "</table>\n",
              "</div>"
            ],
            "text/plain": [
              "                         Log Regression       KNN  ...       SVM  Random Forest\n",
              "F1 Score(toxic)                0.860846  0.199301  ...  0.876133       0.839532\n",
              "F1 Score(severe_toxic)         0.927879  0.856597  ...  0.926004       0.940563\n",
              "F1 Score(obscene)              0.908655  0.519196  ...  0.921739       0.912021\n",
              "F1 Score(insult)               0.896599  0.256612  ...  0.901882       0.883689\n",
              "F1 Score(threat)               0.628821  0.720000  ...  0.791209       0.792593\n",
              "F1 Score(identity_hate)        0.699029  0.222222  ...  0.795031       0.784558\n",
              "\n",
              "[6 rows x 6 columns]"
            ]
          },
          "metadata": {
            "tags": []
          },
          "execution_count": 122
        }
      ]
    },
    {
      "cell_type": "code",
      "metadata": {
        "id": "achNHdJcz-qX"
      },
      "source": [
        "# sns.lineplot(data=f1_all_trp, markers=True)\n",
        "# plt.xticks(rotation='90', fontsize=14)\n",
        "# plt.yticks(fontsize=14)\n",
        "# plt.legend(loc='best')\n",
        "# plt.title('F1 Score of ML models (TF-IDF)', fontsize=20)\n"
      ],
      "execution_count": null,
      "outputs": []
    },
    {
      "cell_type": "markdown",
      "metadata": {
        "id": "fkQRQGRoz-qY"
      },
      "source": [
        "LinearSVC and Random Forest models perform best (purple and brown lines seem to be the highest)."
      ]
    },
    {
      "cell_type": "markdown",
      "metadata": {
        "id": "hrbjRRbqz-qY"
      },
      "source": [
        "### Test if our code actually works. Probability of the comment falling in various categories should be output."
      ]
    },
    {
      "cell_type": "code",
      "metadata": {
        "colab": {
          "base_uri": "https://localhost:8080/",
          "height": 204
        },
        "id": "XhIKH4CMz-qZ",
        "outputId": "c251b130-fb40-4206-e5d1-46173f6c9b74"
      },
      "source": [
        "data_tox_done.head()"
      ],
      "execution_count": null,
      "outputs": [
        {
          "output_type": "execute_result",
          "data": {
            "text/html": [
              "<div>\n",
              "<style scoped>\n",
              "    .dataframe tbody tr th:only-of-type {\n",
              "        vertical-align: middle;\n",
              "    }\n",
              "\n",
              "    .dataframe tbody tr th {\n",
              "        vertical-align: top;\n",
              "    }\n",
              "\n",
              "    .dataframe thead th {\n",
              "        text-align: right;\n",
              "    }\n",
              "</style>\n",
              "<table border=\"1\" class=\"dataframe\">\n",
              "  <thead>\n",
              "    <tr style=\"text-align: right;\">\n",
              "      <th></th>\n",
              "      <th>id</th>\n",
              "      <th>comment_text</th>\n",
              "      <th>toxic</th>\n",
              "    </tr>\n",
              "  </thead>\n",
              "  <tbody>\n",
              "    <tr>\n",
              "      <th>6</th>\n",
              "      <td>0002bcb3da6cb337</td>\n",
              "      <td>cocksucker before you piss around on my work</td>\n",
              "      <td>1</td>\n",
              "    </tr>\n",
              "    <tr>\n",
              "      <th>12</th>\n",
              "      <td>0005c987bdfc9d4b</td>\n",
              "      <td>hey    what is it       talk   what is it    a...</td>\n",
              "      <td>1</td>\n",
              "    </tr>\n",
              "    <tr>\n",
              "      <th>16</th>\n",
              "      <td>0007e25b2121310b</td>\n",
              "      <td>bye    don t look  come or think of comming ba...</td>\n",
              "      <td>1</td>\n",
              "    </tr>\n",
              "    <tr>\n",
              "      <th>42</th>\n",
              "      <td>001810bf8c45bf5f</td>\n",
              "      <td>you are gay or antisemmitian    archangel whit...</td>\n",
              "      <td>1</td>\n",
              "    </tr>\n",
              "    <tr>\n",
              "      <th>43</th>\n",
              "      <td>00190820581d90ce</td>\n",
              "      <td>fuck your filthy mother in the ass  dry</td>\n",
              "      <td>1</td>\n",
              "    </tr>\n",
              "  </tbody>\n",
              "</table>\n",
              "</div>"
            ],
            "text/plain": [
              "                  id                                       comment_text  toxic\n",
              "6   0002bcb3da6cb337       cocksucker before you piss around on my work      1\n",
              "12  0005c987bdfc9d4b  hey    what is it       talk   what is it    a...      1\n",
              "16  0007e25b2121310b  bye    don t look  come or think of comming ba...      1\n",
              "42  001810bf8c45bf5f  you are gay or antisemmitian    archangel whit...      1\n",
              "43  00190820581d90ce           fuck your filthy mother in the ass  dry       1"
            ]
          },
          "metadata": {
            "tags": []
          },
          "execution_count": 124
        }
      ]
    },
    {
      "cell_type": "code",
      "metadata": {
        "colab": {
          "base_uri": "https://localhost:8080/"
        },
        "id": "M6wR8zN6z-qZ",
        "outputId": "df6cd1e5-5467-43af-e890-45a54f1d092b"
      },
      "source": [
        "X = data_tox_done.comment_text\n",
        "y = data_tox_done['toxic']\n",
        "\n",
        "X_train, X_test, y_train, y_test = train_test_split(X, y, test_size=0.3, random_state=42)\n",
        "\n",
        "# Initiate a Tfidf vectorizer\n",
        "tfv = TfidfVectorizer(ngram_range=(1,1), stop_words='english')\n",
        "\n",
        "X_train_fit = tfv.fit_transform(X_train)  # Convert the X data into a document term matrix dataframe\n",
        "X_test_fit = tfv.transform(X_test)  # Converts the X_test comments into Vectorized format\n",
        "\n",
        "randomforest = RandomForestClassifier(n_estimators=100, random_state=42)\n",
        "\n",
        "# Train our SVM model with the X training data converted into Count Vectorized format with the Y training data\n",
        "randomforest.fit(X_train_fit, y_train)\n",
        "randomforest.predict(X_test_fit)\n",
        "\n"
      ],
      "execution_count": null,
      "outputs": [
        {
          "output_type": "execute_result",
          "data": {
            "text/plain": [
              "array([0, 1, 1, ..., 1, 1, 1])"
            ]
          },
          "metadata": {
            "tags": []
          },
          "execution_count": 125
        }
      ]
    },
    {
      "cell_type": "code",
      "metadata": {
        "id": "QN1NFwKA-O7z"
      },
      "source": [
        "import requests\n",
        "import json\n",
        "\n",
        "def getCreds() :\n",
        "        \"\"\" Get creds required for use in the applications\n",
        "\n",
        "        Returns:\n",
        "                dictonary: credentials needed globally\n",
        "        \"\"\"\n",
        "\n",
        "        creds = dict() # dictionary to hold everything\n",
        "        creds['access_token'] = 'EAAJZA6U84O90BACpCuSeTcLYQtZCaC3W7KGLW25nJYbohSLPNLJYelQnyckFzsDLmqDkZBsdgJKQvMHbKX1yZAGMiA4T0VTDP4LnrqLtZCDZAK2VHiA0rP9pahzvTKSM0ncfZBex7oaSR9vK5nrSSCH1uKKpMRmey9ZCg114rocRz5JEZAQ8mESnr' # access token for use with all api calls\n",
        "        creds['client_id'] = '661808544758749' # client id from facebook app IG Graph API Test\n",
        "        creds['client_secret'] = 'd0e2c9fb669b243dffdebcf2ce6d846a' # client secret from facebook app\n",
        "        creds['graph_domain'] = 'https://graph.facebook.com/' # base domain for api calls\n",
        "        creds['graph_version'] = 'v8.0' # version of the api we are hitting\n",
        "        creds['endpoint_base'] = creds['graph_domain'] + creds['graph_version'] + '/' # base endpoint with domain and version\n",
        "        creds['debug'] = 'no' # debug mode for api call\n",
        "        creds['page_id'] = '113475840498316' # users page id\n",
        "        creds['instagram_account_id'] = '17841442320281292' # users instagram account id\n",
        "        creds['ig_username'] = 'crceprojects' # ig username\n",
        "\n",
        "        return creds\n",
        "\n",
        "def makeApiCall( url, endpointParams, debug = 'no' ) :\n",
        "        \"\"\" Request data from endpoint with params\n",
        "\n",
        "        Args:\n",
        "                url: string of the url endpoint to make request from\n",
        "                endpointParams: dictionary keyed by the names of the url parameters\n",
        "        Returns:\n",
        "                object: data from the endpoint\n",
        "        \"\"\"\n",
        "\n",
        "        data = requests.get( url, endpointParams ) # make get request\n",
        "\n",
        "        response = dict() # hold response info\n",
        "        response['url'] = url # url we are hitting\n",
        "        response['endpoint_params'] = endpointParams #parameters for the endpoint\n",
        "        response['endpoint_params_pretty'] = json.dumps( endpointParams, indent = 4 ) # pretty print for cli\n",
        "        response['json_data'] = json.loads( data.content ) # response data from the api\n",
        "        response['json_data_pretty'] = json.dumps( response['json_data'], indent = 4 ) # pretty print for cli\n",
        "\n",
        "        if ( 'yes' == debug ) : # display out response info\n",
        "                displayApiCallData( response ) # display response\n",
        "\n",
        "        return response # get and return content\n",
        "\n",
        "def displayApiCallData( response ) :\n",
        "        \"\"\" Print out to cli response from api call \"\"\"\n",
        "\n",
        "        print(\"\\nURL: \") # title\n",
        "        print(response['url']) # display url hit\n",
        "        print(\"\\nEndpoint Params: \") # title\n",
        "        print(response['endpoint_params_pretty']) # display params passed to the endpoint\n",
        "        print(\"\\nResponse: \") # title\n",
        "        print(response['json_data_pretty']) # make look pretty for cli\n",
        "    "
      ],
      "execution_count": null,
      "outputs": []
    },
    {
      "cell_type": "code",
      "metadata": {
        "colab": {
          "base_uri": "https://localhost:8080/"
        },
        "id": "ZtkomcwJ57un",
        "outputId": "b5bd266e-02eb-4255-deb4-6f6b162c3e7c"
      },
      "source": [
        "!pip install xlsxwriter\n",
        "def getUserComment( params, pagingUrl = '' ) :\n",
        "        \"\"\" Get users media\n",
        "\n",
        "        API Endpoint:\n",
        "                https://graph.facebook.com/{graph-api-version}/{ig-user-id}/media?fields={fields}&access_token={access-token}\n",
        "        Returns:\n",
        "                object: data from the endpoint\n",
        "        \"\"\"\n",
        "        details = dict() # dictionary to hold everything\n",
        "        details['id'] = '18080099320215174'\n",
        "        details['caption'] = 'Random Post 1'\n",
        "        details['media_url'] = 'https://scontent.cdninstagram.com/v/t51.29350-15/120202885_349366736494379_2453927747011417320_n.jpg?_nc_cat=107&_nc_sid=8ae9d6&_nc_ohc=tZEfp7653w0AX-7aRfi&_nc_ht=scontent.cdninstagram.com&oh=a9ba982cc1717b6e93cbca8bced9f018&oe=5F9A6331'\n",
        "        details['permalink'] = 'https://www.instagram.com/p/CFrzrYYH5_Y/'\n",
        "        details['media_type'] = 'IMAGE'\n",
        "\n",
        "        endpointParams = dict() # parameter to send to the endpoint\n",
        "        endpointParams['fields'] = 'id,caption,media_type,media_url,permalink,thumbnail_url,timestamp,username,comments_count,text,like_count' # fields to get back\n",
        "        endpointParams['access_token'] = params['access_token'] # access token\n",
        "\n",
        "        if ( '' == pagingUrl ) : # get first page\n",
        "                url = params['endpoint_base'] + details['id'] + '/comments' # endpoint url\n",
        "        else : # get specific page\n",
        "                url = pagingUrl  # endpoint url\n",
        "\n",
        "        return makeApiCall( url, endpointParams, params['debug'] ) # make the api call\n",
        "\n",
        "params = getCreds() # get creds\n",
        "params['debug'] = 'no' # set debug\n",
        "response = getUserComment( params ) # get users media from the api\n",
        "\n",
        "# WRITING COMMENTS AND COMMENT_IDS IN XLSC FILE\n",
        "\n",
        "import xlsxwriter\n",
        "workbook = xlsxwriter.Workbook('/content/drive/MyDrive/PROJECTS/pbl/PBLproject/mlmodel/toxic_comments_classifier/projectComments.xlsx')\n",
        "worksheet = workbook.add_worksheet()\n",
        "worksheet.write('A1', 'Comment_id')\n",
        "worksheet.write('B1', 'Comment')\n",
        "\n",
        "row = 1\n",
        "col = 0\n",
        "\n",
        "for comment in response['json_data']['data'] :\n",
        "        worksheet.write(row, col, comment['id'])\n",
        "        worksheet.write(row, col + 1, comment['text'])\n",
        "        row+=1\n",
        "        print(\"\\nComment id: \", comment['id'])\n",
        "        # print(\"User: \", comment['username'])\n",
        "        print(\"Comment : \" , comment['text'])\n",
        "workbook.close()\n",
        "params['debug'] = 'no' # set debug\n",
        "\n",
        "\n",
        "\n",
        "\n",
        "\n",
        "\n",
        "\n",
        "# DELETE(18055919893280770)\n",
        "\n",
        "\n",
        "\n",
        "# FB.api(\n",
        "#     \"/{comment-id}\",\n",
        "#     \"DELETE\",\n",
        "#     function (response) {\n",
        "#       if (response && !response.error) {\n",
        "#         /* handle the result */\n",
        "#       }\n",
        "#     }\n",
        "# );\n"
      ],
      "execution_count": null,
      "outputs": [
        {
          "output_type": "stream",
          "text": [
            "Requirement already satisfied: xlsxwriter in /usr/local/lib/python3.7/dist-packages (1.4.2)\n",
            "\n",
            "Comment id:  17897482475006416\n",
            "Comment :  piece of shit\n",
            "\n",
            "Comment id:  17972771596331222\n",
            "Comment :  Test\n",
            "\n",
            "Comment id:  17881180681963175\n",
            "Comment :  Testing.....\n",
            "\n",
            "Comment id:  18042830587279578\n",
            "Comment :  hii\n",
            "\n",
            "Comment id:  17854858733309749\n",
            "Comment :  random comment\n",
            "\n",
            "Comment id:  17892314977687496\n",
            "Comment :  test\n",
            "\n",
            "Comment id:  18032014252304549\n",
            "Comment :  hii\n",
            "\n",
            "Comment id:  18132569788191369\n",
            "Comment :  Test comment\n",
            "\n",
            "Comment id:  18047453086270448\n",
            "Comment :  Along with comment ID\n",
            "\n",
            "Comment id:  17967588631329531\n",
            "Comment :  Helloo\n",
            "\n",
            "Comment id:  17872215490925589\n",
            "Comment :  Gwyown\n",
            "\n",
            "Comment id:  18080594884209886\n",
            "Comment :  Comment3\n",
            "\n",
            "Comment id:  17916711079475529\n",
            "Comment :  Comment2\n"
          ],
          "name": "stdout"
        }
      ]
    },
    {
      "cell_type": "code",
      "metadata": {
        "colab": {
          "base_uri": "https://localhost:8080/"
        },
        "id": "tXim1Qehz-qa",
        "outputId": "ea92d34e-2a53-4f7e-f156-08b7dcd5521f"
      },
      "source": [
        "#Loading fetched comments from excel file and merging columns in dictionary\n",
        "\n",
        "data = pd.read_excel('/content/drive/MyDrive/PROJECTS/pbl/PBLproject/mlmodel/toxic_comments_classifier/projectComments.xlsx')\n",
        "# data.head()\n",
        "\n",
        "# print(data.columns)\n",
        "\n",
        "commentID = data['Comment_id']\n",
        "comment = data['Comment']\n",
        "\n",
        "\n",
        "data_dict = dict(zip(commentID, comment))\n",
        "\n",
        "print(data_dict)"
      ],
      "execution_count": null,
      "outputs": [
        {
          "output_type": "stream",
          "text": [
            "{17897482475006416: 'piece of shit', 17972771596331222: 'Test', 17881180681963175: 'Testing.....', 18042830587279578: 'hii', 17854858733309749: 'random comment', 17892314977687496: 'test', 18032014252304549: 'hii', 18132569788191369: 'Test comment', 18047453086270448: 'Along with comment ID', 17967588631329531: 'Helloo', 17872215490925589: 'Gwyown', 18080594884209886: 'Comment3', 17916711079475529: 'Comment2'}\n"
          ],
          "name": "stdout"
        }
      ]
    },
    {
      "cell_type": "code",
      "metadata": {
        "scrolled": true,
        "colab": {
          "base_uri": "https://localhost:8080/"
        },
        "id": "QGp28kdlz-qb",
        "outputId": "df9d1dae-9986-42be-94cd-d70218d6c964"
      },
      "source": [
        "#getting result \n",
        "\n",
        "for commentID, comment in data_dict.items():\n",
        "    comment1 = comment\n",
        "    print(comment1)\n",
        "    \n",
        "    comment1_vect = tfv.transform([comment1])\n",
        "    result = randomforest.predict_proba(comment1_vect)[:,1]\n",
        "    print(\"probability: \",result)\n",
        "\n",
        "    if result > 0.6 :\n",
        "        toxicComment = comment\n",
        "        toxicCommentID = commentID\n",
        "        print(\"toxic comment ID: \",toxicCommentID)\n",
        "        print(\"toxic comment: \",toxicComment,\"\\n\")\n",
        "\n",
        "    else:\n",
        "        print(\"\\n\")\n",
        "#     if comment == \"Testtt\":\n",
        "#         print(commentID)\n",
        "    \n",
        "    \n",
        "    \n",
        "# for i in comment:\n",
        "#     for j in commentID:\n",
        "#         print(i,j)\n",
        "#         break\n",
        "\n",
        "    \n",
        "\n",
        "# comment1_vect = tfv.transform(comment1)\n",
        "# result = randomforest.predict_proba(comment1_vect)[:,1]\n",
        "# print(result)\n",
        "\n",
        "# if result > 0.9 :\n",
        "#     print('toxic')\n",
        "\n",
        "# for i in data.index:\n",
        "#     print(data['Comment_id'][i])"
      ],
      "execution_count": null,
      "outputs": [
        {
          "output_type": "stream",
          "text": [
            "piece of shit\n",
            "probability:  [1.]\n",
            "toxic comment ID:  17897482475006416\n",
            "toxic comment:  piece of shit \n",
            "\n",
            "Test\n",
            "probability:  [0.26742627]\n",
            "\n",
            "\n",
            "Testing.....\n",
            "probability:  [0.28599129]\n",
            "\n",
            "\n",
            "hii\n",
            "probability:  [0.27932462]\n",
            "\n",
            "\n",
            "random comment\n",
            "probability:  [0.16351573]\n",
            "\n",
            "\n",
            "test\n",
            "probability:  [0.26742627]\n",
            "\n",
            "\n",
            "hii\n",
            "probability:  [0.27932462]\n",
            "\n",
            "\n",
            "Test comment\n",
            "probability:  [0.19254748]\n",
            "\n",
            "\n",
            "Along with comment ID\n",
            "probability:  [0.21970774]\n",
            "\n",
            "\n",
            "Helloo\n",
            "probability:  [0.27932462]\n",
            "\n",
            "\n",
            "Gwyown\n",
            "probability:  [0.27932462]\n",
            "\n",
            "\n",
            "Comment3\n",
            "probability:  [0.27932462]\n",
            "\n",
            "\n",
            "Comment2\n",
            "probability:  [0.27932462]\n",
            "\n",
            "\n"
          ],
          "name": "stdout"
        }
      ]
    },
    {
      "cell_type": "code",
      "metadata": {
        "colab": {
          "base_uri": "https://localhost:8080/"
        },
        "id": "2YuXgqfMz-qc",
        "outputId": "5bfabf07-83c6-4d85-bb21-237160a10623"
      },
      "source": [
        "\n",
        "\n",
        "\n",
        "# WRITING COMMENTS AND COMMENT_IDS IN XLSC FILE\n",
        "!pip install xlsxWriter\n",
        "import xlsxwriter\n",
        "workbook = xlsxwriter.Workbook('/content/drive/MyDrive/PROJECTS/pbl/PBLproject/mlmodel/toxic_comments_classifier/toxicComments.xlsx')\n",
        "worksheet = workbook.add_worksheet()\n",
        "worksheet.write('A1', 'Comment_id')\n",
        "worksheet.write('B1', 'Comment')\n",
        "\n",
        "row = 1\n",
        "col = 0\n",
        "\n",
        "print(\"toxic Comment excel sheet updated!\")\n",
        "worksheet.write(row, col,str(toxicCommentID))\n",
        "worksheet.write(row, col + 1, toxicComment)\n",
        "row+=1\n",
        "\n",
        "workbook.close()\n",
        "\n",
        "\n",
        "# df = pd.DataFrame({'toxicCommentID':[str(toxicCommentID)],\n",
        "#                    'toxicComment':[toxicComment]})\n",
        "# df.to_excel(\"toxicComments.xlsx\")"
      ],
      "execution_count": null,
      "outputs": [
        {
          "output_type": "stream",
          "text": [
            "Requirement already satisfied: xlsxWriter in /usr/local/lib/python3.7/dist-packages (1.4.2)\n",
            "toxic Comment excel sheet updated!\n"
          ],
          "name": "stdout"
        }
      ]
    },
    {
      "cell_type": "code",
      "metadata": {
        "id": "8HeSnCBT5MGi"
      },
      "source": [
        "                                                                   "
      ],
      "execution_count": null,
      "outputs": []
    },
    {
      "cell_type": "code",
      "metadata": {
        "colab": {
          "base_uri": "https://localhost:8080/"
        },
        "id": "v4Ox_3-C4ufr",
        "outputId": "22aa2a24-3e4b-4268-b75b-681df8f266be"
      },
      "source": [
        "# https://graph.facebook.com/v2.8/{comment-id}?method=delete\n",
        "\n",
        "# from defines import getCreds, makeApiCall\n",
        "import pandas as pd\n",
        "\n",
        "data = pd.read_excel('/content/drive/MyDrive/PROJECTS/pbl/PBLproject/mlmodel/toxic_comments_classifier/toxicComments.xlsx')\n",
        "\n",
        "commentID = data['Comment_id']\n",
        "comment = data['Comment']\n",
        "data_dict = dict(zip(commentID, comment))\n",
        "\n",
        "\n",
        "\n",
        "def getUserComment( params, pagingUrl = '' ) :\n",
        "\n",
        "        for i in data_dict.keys():\n",
        "                rmCommentID = i\n",
        "\n",
        "                comment = dict() # dictionary to hold everything\n",
        "                comment['id'] = str(rmCommentID)\n",
        "                print(comment['id'])\n",
        "\n",
        "        endpointParams = dict() # parameter to send to the endpoint\n",
        "        endpointParams['fields'] = 'id,caption,media_type,media_url,permalink,thumbnail_url,timestamp,username,comments_count,text,like_count' # fields to get back\n",
        "        endpointParams['access_token'] = params['access_token'] # access token\n",
        "\n",
        "        if ( '' == pagingUrl ) :\n",
        "                url = params['endpoint_base'] + comment['id'] + '?method=delete' # endpoint url\n",
        "        else : # get specific page\n",
        "                url = pagingUrl  # endpoint url\n",
        "\n",
        "\n",
        "        return makeApiCall( url, endpointParams, params['debug'] ) # make the api call\n",
        "\n",
        "\n",
        "\n",
        "\n",
        "def result(response):\n",
        "        if response:\n",
        "                print(\"comment deleted\")\n",
        "        else:\n",
        "                print(\"error occured\")\n",
        "\n",
        "params = getCreds() # get creds\n",
        "params['debug'] = 'no' # set debug\n",
        "response = getUserComment( params )\n",
        "result(response)\n"
      ],
      "execution_count": null,
      "outputs": [
        {
          "output_type": "stream",
          "text": [
            "17897482475006416\n",
            "comment deleted\n"
          ],
          "name": "stdout"
        }
      ]
    },
    {
      "cell_type": "code",
      "metadata": {
        "colab": {
          "base_uri": "https://localhost:8080/"
        },
        "id": "kQfpa3p1z-qd",
        "outputId": "15613a3c-1acc-4f38-adb5-c3702aac1259"
      },
      "source": [
        "# Sample Prediction\n",
        "\n",
        "comment1 = ['dog shit']\n",
        "comment2 = ['good picture, you piece of shit']\n",
        "comment2_vect = tfv.transform(comment2)\n",
        "\n",
        "comment1_vect = tfv.transform(comment1)\n",
        "result1 = randomforest.predict_proba(comment1_vect)[:,1]\n",
        "print(result1)\n",
        "\n",
        "if result1 > 0.9 :\n",
        "    print('toxic')\n"
      ],
      "execution_count": null,
      "outputs": [
        {
          "output_type": "stream",
          "text": [
            "[1.]\n",
            "toxic\n"
          ],
          "name": "stdout"
        }
      ]
    },
    {
      "cell_type": "code",
      "metadata": {
        "scrolled": true,
        "colab": {
          "base_uri": "https://localhost:8080/"
        },
        "id": "kB78YBo7z-qe",
        "outputId": "08f02488-cf05-43e8-ec52-53a74b96c8fc"
      },
      "source": [
        "result2 = randomforest.predict_proba(comment2_vect)[:,1]\n",
        "print(result2)"
      ],
      "execution_count": null,
      "outputs": [
        {
          "output_type": "stream",
          "text": [
            "[0.87]\n"
          ],
          "name": "stdout"
        }
      ]
    },
    {
      "cell_type": "markdown",
      "metadata": {
        "id": "J6Z_g09Rz-qf"
      },
      "source": [
        "Random forest has assigned a probability of 1 that comment 1 ('you piece of shit') is toxic. Comment 2 has only a low toxicity probability of 0.42."
      ]
    },
    {
      "cell_type": "code",
      "metadata": {
        "id": "7Usp0uDHz-qf"
      },
      "source": [
        ""
      ],
      "execution_count": null,
      "outputs": []
    }
  ]
}